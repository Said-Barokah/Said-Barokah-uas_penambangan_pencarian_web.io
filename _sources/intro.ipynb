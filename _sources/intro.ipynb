{
 "cells": [
  {
   "cell_type": "markdown",
   "metadata": {},
   "source": [
    "# Web Crawler\n"
   ]
  },
  {
   "cell_type": "markdown",
   "metadata": {},
   "source": [
    "## Definisi"
   ]
  },
  {
   "cell_type": "markdown",
   "metadata": {},
   "source": [
    "Sebelum mengatuhui tentang Web Crawler kita harus mengatahui definisi tentang web scraping. Web Scraping yang bisa disebut juga web harvesting, web data extraction atau web mining, yaitu kegiatan mengkonstruksi agen untuk mengunduh, mengurai,dan mengatur data dari halaman web secara otomatis. Hal ini dimaksudkan kegiatan pengguna dalam mengambil data dari layar web dilakukan oleh web scraper dengan tujuan agar pengambilan data dapat dilakukan dengan lebih cepat dan lebih tepat."
   ]
  },
  {
   "cell_type": "markdown",
   "metadata": {},
   "source": [
    "Sedangkan, Web crawler merupakan kegiatan melintasi halaman-halaman web untuk diekstraksi oleh Web scraping. Saat pengambilan data dari halaman web, cukup sulit untuk menentukan halaman web yang cukup relevan. Dengan web crawler, pengunjungan halaman web dapat menggunakan local search algorithm untuk membatasi URL antara halaman web."
   ]
  },
  {
   "cell_type": "markdown",
   "metadata": {},
   "source": [
    "## Implementasi dalam program"
   ]
  },
  {
   "cell_type": "markdown",
   "metadata": {},
   "source": [
    "Dalam contoh ini kami menggunakan bahasa pemrograman python untuk melakukan web scraping dan web crawler pada halaman web https://pta.trunojoyo.ac.id/, di bawah ini contoh programnya"
   ]
  },
  {
   "cell_type": "code",
   "execution_count": null,
   "metadata": {},
   "outputs": [],
   "source": [
    "!pip install scrapy\n",
    "import scrapy\n",
    "\n",
    "class QuotesSpider(scrapy.Spider):\n",
    "\n",
    "    name = 'Crawling_Web'\n",
    "    # allowed_domains = ['https://pta.trunojoyo.ac.id/']\n",
    "    start_urls = ['https://pta.trunojoyo.ac.id/']\n",
    "\n",
    "    def parse(self, response):\n",
    "        print(\"procesing:\"+response.url)\n",
    "        #Extract data using css selectors\n",
    "        title=response.css('#content_journal > ul > li > div:nth-child(1) > a::text').extract()\n",
    "        abstrac=response.css('#content_journal > ul > li > div:nth-child(3) > div:nth-child(2) > p::text').extract()\n",
    "        author=response.css('#content_journal > ul > li > div:nth-child(1) > div:nth-child(2) > span::text').extract()\n",
    "\n",
    "        row_data=zip(title,abstrac,author)\n",
    "\n",
    "        #Making extracted data row wise\n",
    "        for item in row_data:\n",
    "            #create a dictionary to store the scraped info\n",
    "            scraped_info = {\n",
    "                #key:value\n",
    "                'page':response.url,\n",
    "                'title' : item[0], #item[0] means product in the list and so on, index tells what value to assign\n",
    "                'author' : item[2],\n",
    "                'abstrac' : item[1],\n",
    "            }\n",
    "\n",
    "            #yield or give the scraped info to scrapy\n",
    "            yield scraped_info\n",
    "\n",
    "\n",
    "        NEXT_PAGE_SELECTOR = '#end > ol > li:nth-child(2) > a::attr(href)'\n",
    "        next_page = response.css(NEXT_PAGE_SELECTOR).extract_first().split('/')[-1]\n",
    "        LAST_PAGE_SELECTOR = '#end > ol > li:nth-child(5) > a::attr(href)'\n",
    "        if next_page == '2':\n",
    "            last_page = response.css(LAST_PAGE_SELECTOR).extract_first().split('/')[-1]\n",
    "            page = 'https://pta.trunojoyo.ac.id/welcome/index/'\n",
    "            for i in range (2,int(last_page)+1):\n",
    "                yield scrapy.Request(page+str(i),callback=self.parse)\n"
   ]
  },
  {
   "cell_type": "markdown",
   "metadata": {},
   "source": [
    "untuk menjalankan program tersebut kita masuk terminal kemudian masuk ke folder tempat file tersebut berada dan ketikkan program dibawah berikut."
   ]
  },
  {
   "cell_type": "markdown",
   "metadata": {},
   "source": [
    "<code> scrapy runspider nama_file.py -o data_hasil_crawling.csv </code>"
   ]
  },
  {
   "cell_type": "markdown",
   "metadata": {},
   "source": [
    "## Penjelasan dari code diatas sebagai berikut.\n",
    "\n"
   ]
  },
  {
   "cell_type": "code",
   "execution_count": null,
   "metadata": {},
   "outputs": [],
   "source": [
    "import scrapy"
   ]
  },
  {
   "cell_type": "markdown",
   "metadata": {},
   "source": [
    "import terlebih dahulu library scrapy yang telah diinstall sebelumnya.\n",
    "\n"
   ]
  },
  {
   "cell_type": "code",
   "execution_count": null,
   "metadata": {},
   "outputs": [],
   "source": [
    "class QuotesSpider(scrapy.Spider):\n",
    "\n",
    "    name = 'Crawling_Web'\n",
    "    # allowed_domains = ['https://pta.trunojoyo.ac.id/']\n",
    "    start_urls = ['https://pta.trunojoyo.ac.id/']\n",
    "\n",
    "    def parse(self, response):"
   ]
  },
  {
   "cell_type": "markdown",
   "metadata": {},
   "source": [
    "program diatas adalah default yang diberikan oleh dokumentasi di web library scrapy. dimana dibagian varibel name digunakan untuk menamai program tersebut. kemudian dibagian starts_urls yaitu memasukkan web yang akan di scarping dan crawling. kemudian dibagian function parse digunakan untuk menaruh program algoritma scarping dan crawling"
   ]
  },
  {
   "cell_type": "code",
   "execution_count": null,
   "metadata": {},
   "outputs": [],
   "source": [
    "title=response.css('#content_journal > ul > li > div:nth-child(1) > a::text').extract()\n",
    "abstrac=response.css('#content_journal > ul > li > div:nth-child(3) > div:nth-child(2) > p::text').extract()\n",
    "author=response.css('#content_journal > ul > li > div:nth-child(1) > div:nth-child(2) > span::text').extract()"
   ]
  },
  {
   "cell_type": "markdown",
   "metadata": {},
   "source": [
    "Kemudian program diatas yaitu mengambil sebuah data yang berupa teks sesuai element yang dimasukkan diatas dan pengambilannya mengunakan response css. untuk sementara yang diambil adalah bagian titile,abstac,dan author."
   ]
  },
  {
   "cell_type": "code",
   "execution_count": null,
   "metadata": {},
   "outputs": [],
   "source": [
    "row_data=zip(title,abstrac,author)"
   ]
  },
  {
   "cell_type": "markdown",
   "metadata": {},
   "source": [
    "disini menaruh variabel title, abstac, dan author dalam satu variabel.\n",
    "\n"
   ]
  },
  {
   "cell_type": "code",
   "execution_count": null,
   "metadata": {},
   "outputs": [],
   "source": [
    "        for item in row_data:\n",
    "            #create a dictionary to store the scraped info\n",
    "            scraped_info = {\n",
    "                #key:value\n",
    "                'page':response.url,\n",
    "                'title' : item[0], #item[0] means product in the list and so on, index tells what value to assign\n",
    "                'author' : item[2],\n",
    "                'abstrac' : item[1],\n",
    "            }\n",
    "\n",
    "            #yield or give the scraped info to scrapy\n",
    "            yield scraped_info"
   ]
  },
  {
   "cell_type": "markdown",
   "metadata": {},
   "source": [
    "Kemudian masuk ke program diatas, disana untuk mengambil semua data dengan cara di looping dan ini masuk ke proses scraping."
   ]
  },
  {
   "cell_type": "code",
   "execution_count": null,
   "metadata": {},
   "outputs": [],
   "source": [
    "       NEXT_PAGE_SELECTOR = '#end > ol > li:nth-child(2) > a::attr(href)'\n",
    "        next_page = response.css(NEXT_PAGE_SELECTOR).extract_first().split('/')[-1]\n",
    "        LAST_PAGE_SELECTOR = '#end > ol > li:nth-child(5) > a::attr(href)'\n",
    "        if next_page == '2':\n",
    "            last_page = response.css(LAST_PAGE_SELECTOR).extract_first().split('/')[-1]\n",
    "            page = 'https://pta.trunojoyo.ac.id/welcome/index/'\n",
    "            for i in range (2,int(last_page)+1):\n",
    "                yield scrapy.Request(page+str(i),callback=self.parse)"
   ]
  },
  {
   "cell_type": "markdown",
   "metadata": {},
   "source": [
    "Kemudian masuk ke proses crawling yaitu beralih ke page selanjutnya dengan otomatis menggunakan program diatas. di bagian variabel NEXT_PAGE_SELECTOR digunakan untuk mengambil link tujuan button next page dengan cara mengambil attribut hrefnya saja yang nantniya akan digunakan di varibel next_page. Kemudian dibagian variabel next_page mengambil indexnya saja disini berada dibagian terakhir sebelum tanda garing dan cara tersebut berlaku untuk varibel LAST_PAGE_SELECTOR dan last_page. Dimana last_page berguna untuk mengambil index page terakhir yang ada di web tersebut yang kkemudian berguna untuk batas looping atau batas proses crawling. Kemudian cara menghilangkan missing value pada tabel dengan cara dibawah ini."
   ]
  },
  {
   "cell_type": "markdown",
   "metadata": {},
   "source": [
    "## Menghilangkan Kolom Kosong setelah crawling"
   ]
  },
  {
   "cell_type": "code",
   "execution_count": 76,
   "metadata": {},
   "outputs": [],
   "source": [
    "import pandas as pd\n",
    "data = pd.read_csv('data_hasil_crawling.csv')"
   ]
  },
  {
   "cell_type": "markdown",
   "metadata": {},
   "source": [
    "code diatas digunakan untuk mengimportkan library pandas yang akan digunakan untuk code selanjutnya. Lalu baris kedua digunakan untuk membaca file yang sudah di crawling."
   ]
  },
  {
   "cell_type": "code",
   "execution_count": 77,
   "metadata": {},
   "outputs": [
    {
     "data": {
      "text/plain": [
       "page       0\n",
       "title      0\n",
       "author     0\n",
       "abstrac    0\n",
       "dtype: int64"
      ]
     },
     "execution_count": 77,
     "metadata": {},
     "output_type": "execute_result"
    }
   ],
   "source": [
    "data.dropna(inplace=True)\n",
    "data.isnull().sum()"
   ]
  },
  {
   "cell_type": "markdown",
   "metadata": {},
   "source": [
    "pada code di atas baris pertama digunakan untuk menghapus baris kosong, lalu baris kedua digunakan untuk medeteksi missing value kemudian dijumlahkan. setelah itu hasilnya di save dalam format xlsx dengan menggunakan code dibawah ini."
   ]
  },
  {
   "cell_type": "code",
   "execution_count": 78,
   "metadata": {},
   "outputs": [],
   "source": [
    "data.to_excel(\"hasil_crawling.xlsx\")"
   ]
  },
  {
   "cell_type": "markdown",
   "metadata": {},
   "source": [
    "# Pre-Processing Data"
   ]
  },
  {
   "cell_type": "markdown",
   "metadata": {},
   "source": [
    "## Implementasi dalam program beserta penjelasannya"
   ]
  },
  {
   "cell_type": "code",
   "execution_count": 79,
   "metadata": {},
   "outputs": [],
   "source": [
    "# data visualisation and manipulation\n",
    "import numpy as np\n",
    "import pandas as pd\n",
    "\n",
    "import seaborn as sns\n",
    "from openpyxl import load_workbook #library untuk menampilkan dokumen\n",
    "\n",
    "#import nltk\n",
    "import nltk\n",
    "from nltk.corpus import stopwords\n",
    "from nltk.tokenize import word_tokenize,sent_tokenize\n",
    "\n",
    "#preprocessing\n",
    "from nltk.corpus import stopwords  #stopwords\n",
    "from nltk import word_tokenize,sent_tokenize # tokenizing\n",
    "from nltk.stem import PorterStemmer,LancasterStemmer  # using the Porter Stemmer and Lancaster Stemmer and others\n",
    "from nltk.stem.snowball import SnowballStemmer\n",
    "from nltk.stem import WordNetLemmatizer  # lammatizer from WordNet\n",
    "\n",
    "# for named entity recognition (NER)\n",
    "from nltk import ne_chunk\n",
    "\n",
    "# vectorizers for creating the document-term-matrix (DTM)\n",
    "from sklearn.feature_extraction.text import TfidfVectorizer,CountVectorizer\n",
    "\n",
    "#stop-words\n",
    "stop_words=set(nltk.corpus.stopwords.words('indonesian'))"
   ]
  },
  {
   "cell_type": "markdown",
   "metadata": {},
   "source": [
    "Code diatas digunakan untuk mengimport berbagai library yang akan digunakan pada code selanjutnya."
   ]
  },
  {
   "cell_type": "markdown",
   "metadata": {},
   "source": [
    "**LOADING DATASET**"
   ]
  },
  {
   "cell_type": "code",
   "execution_count": 80,
   "metadata": {},
   "outputs": [],
   "source": [
    "wr = load_workbook(filename = 'hasil_crawling.xlsx')\n",
    "sheet_range = wr['Sheet1']\n",
    "\n",
    "data = pd.DataFrame(sheet_range.values)\n",
    "data.columns = ['','page','title','author', 'abstrac']\n"
   ]
  },
  {
   "cell_type": "markdown",
   "metadata": {},
   "source": [
    "code diatas digunakan untuk membaca file yang bernama \"hasil_crawling.xlsx\". setelah itu pada baris ke 2 digunakan untuk mengambil hanya pada sheet 1 yang ada pada file excel. lalu langkah selanjutnya adalah untuk mengambil kolom pada baris pertama dengan nama yang sudah tertera pada baris ke 5."
   ]
  },
  {
   "cell_type": "code",
   "execution_count": 81,
   "metadata": {},
   "outputs": [
    {
     "data": {
      "text/html": [
       "<div>\n",
       "<style scoped>\n",
       "    .dataframe tbody tr th:only-of-type {\n",
       "        vertical-align: middle;\n",
       "    }\n",
       "\n",
       "    .dataframe tbody tr th {\n",
       "        vertical-align: top;\n",
       "    }\n",
       "\n",
       "    .dataframe thead th {\n",
       "        text-align: right;\n",
       "    }\n",
       "</style>\n",
       "<table border=\"1\" class=\"dataframe\">\n",
       "  <thead>\n",
       "    <tr style=\"text-align: right;\">\n",
       "      <th></th>\n",
       "      <th></th>\n",
       "      <th>page</th>\n",
       "      <th>title</th>\n",
       "      <th>author</th>\n",
       "      <th>abstrac</th>\n",
       "    </tr>\n",
       "  </thead>\n",
       "  <tbody>\n",
       "    <tr>\n",
       "      <th>0</th>\n",
       "      <td>NaN</td>\n",
       "      <td>page</td>\n",
       "      <td>title</td>\n",
       "      <td>author</td>\n",
       "      <td>abstrac</td>\n",
       "    </tr>\n",
       "    <tr>\n",
       "      <th>1</th>\n",
       "      <td>0.0</td>\n",
       "      <td>https://pta.trunojoyo.ac.id/</td>\n",
       "      <td>STRATEGI PENGEMBANGAN MAKANAN DAN MINUMAN KHAS...</td>\n",
       "      <td>Penulis : Mohammad Maskur</td>\n",
       "      <td>Makanan dan minuman khas merupakan ciri dari k...</td>\n",
       "    </tr>\n",
       "    <tr>\n",
       "      <th>2</th>\n",
       "      <td>1.0</td>\n",
       "      <td>https://pta.trunojoyo.ac.id/</td>\n",
       "      <td>PERUMUSAN SANKSI PIDANA BAGI MASYARAKAT SEKITA...</td>\n",
       "      <td>Penulis : Moch. Steven</td>\n",
       "      <td>ABSTRAK\\nAkhir-akhir ini semakin maraknya penc...</td>\n",
       "    </tr>\n",
       "    <tr>\n",
       "      <th>3</th>\n",
       "      <td>2.0</td>\n",
       "      <td>https://pta.trunojoyo.ac.id/</td>\n",
       "      <td>Peran Teor Motivasi Herzberg Sebagai Mediator ...</td>\n",
       "      <td>Penulis : Widha Deby Andrea</td>\n",
       "      <td>Penelitian ini bertujuan untuk dapat mengetahu...</td>\n",
       "    </tr>\n",
       "    <tr>\n",
       "      <th>4</th>\n",
       "      <td>3.0</td>\n",
       "      <td>https://pta.trunojoyo.ac.id/welcome/index/9</td>\n",
       "      <td>Model pemberdayaan ekonomi masyarakat melalui ...</td>\n",
       "      <td>Penulis : Rofiatul Zuhria</td>\n",
       "      <td>Kedai kopi sampah merupakan salah satu usaha y...</td>\n",
       "    </tr>\n",
       "  </tbody>\n",
       "</table>\n",
       "</div>"
      ],
      "text/plain": [
       "                                               page  \\\n",
       "0  NaN                                         page   \n",
       "1  0.0                 https://pta.trunojoyo.ac.id/   \n",
       "2  1.0                 https://pta.trunojoyo.ac.id/   \n",
       "3  2.0                 https://pta.trunojoyo.ac.id/   \n",
       "4  3.0  https://pta.trunojoyo.ac.id/welcome/index/9   \n",
       "\n",
       "                                               title  \\\n",
       "0                                              title   \n",
       "1  STRATEGI PENGEMBANGAN MAKANAN DAN MINUMAN KHAS...   \n",
       "2  PERUMUSAN SANKSI PIDANA BAGI MASYARAKAT SEKITA...   \n",
       "3  Peran Teor Motivasi Herzberg Sebagai Mediator ...   \n",
       "4  Model pemberdayaan ekonomi masyarakat melalui ...   \n",
       "\n",
       "                        author  \\\n",
       "0                       author   \n",
       "1    Penulis : Mohammad Maskur   \n",
       "2       Penulis : Moch. Steven   \n",
       "3  Penulis : Widha Deby Andrea   \n",
       "4    Penulis : Rofiatul Zuhria   \n",
       "\n",
       "                                             abstrac  \n",
       "0                                            abstrac  \n",
       "1  Makanan dan minuman khas merupakan ciri dari k...  \n",
       "2  ABSTRAK\\nAkhir-akhir ini semakin maraknya penc...  \n",
       "3  Penelitian ini bertujuan untuk dapat mengetahu...  \n",
       "4  Kedai kopi sampah merupakan salah satu usaha y...  "
      ]
     },
     "execution_count": 81,
     "metadata": {},
     "output_type": "execute_result"
    }
   ],
   "source": [
    "data.head()"
   ]
  },
  {
   "cell_type": "markdown",
   "metadata": {},
   "source": [
    "code diatas digunakan untuk menampilkan hasil dari file yang sudah dibaca pada code sebelumnya. Kemudian membuat variabel baru untuk kolom abstrac saja"
   ]
  },
  {
   "cell_type": "code",
   "execution_count": 82,
   "metadata": {},
   "outputs": [],
   "source": [
    "df = data[['abstrac']]"
   ]
  },
  {
   "cell_type": "markdown",
   "metadata": {},
   "source": [
    "**DATA CLEANING DAN PREPROSESING TEKS**"
   ]
  },
  {
   "cell_type": "markdown",
   "metadata": {},
   "source": [
    "pada langkah ini digunakan untuk menghilangkan kata tambahan yaitu kata yang karakternya kurang dari 3 angka."
   ]
  },
  {
   "cell_type": "code",
   "execution_count": 83,
   "metadata": {},
   "outputs": [
    {
     "data": {
      "text/plain": [
       "0                                              abstrac\n",
       "1    Makanan minuman khas ciri kekayaan sumberdaya ...\n",
       "2    ABSTRAK Akhir-akhir maraknya pencurian kayu mi...\n",
       "3    Penelitian bertujuan pengaruh motivasi kerja m...\n",
       "4    Kedai kopi sampah salah usaha mencerminkan pem...\n",
       "Name: abstrac, dtype: object"
      ]
     },
     "execution_count": 83,
     "metadata": {},
     "output_type": "execute_result"
    }
   ],
   "source": [
    "def clean_text(headline):\n",
    "  le=WordNetLemmatizer()\n",
    "  word_tokens=word_tokenize(headline)\n",
    "  tokens=[le.lemmatize(w) for w in word_tokens if w not in stop_words and len(w)>3]\n",
    "  cleaned_text=\" \".join(tokens)\n",
    "  return cleaned_text\n",
    "df_bersih = df['abstrac'].apply(clean_text)\n",
    "df = df_bersih\n",
    "df.head()"
   ]
  },
  {
   "cell_type": "markdown",
   "metadata": {},
   "source": [
    "pada code diatas adalah membuat sebuah fungsi yang berfungsi untuk melakukan data cleaning. dan dipanggil sesuai parameter yang ada."
   ]
  },
  {
   "cell_type": "markdown",
   "metadata": {},
   "source": [
    "**MENGHILANGKAN ANGKA**\n"
   ]
  },
  {
   "cell_type": "code",
   "execution_count": 84,
   "metadata": {},
   "outputs": [],
   "source": [
    "import re\n",
    "dokumenre=[]\n",
    "for i in df: \n",
    "    hasil = re.sub(r\"\\d+\", \"\", i)\n",
    "    dokumenre.append(hasil) "
   ]
  },
  {
   "cell_type": "code",
   "execution_count": 85,
   "metadata": {},
   "outputs": [
    {
     "name": "stdout",
     "output_type": "stream",
     "text": [
      "['abstrac', 'Makanan minuman khas ciri kekayaan sumberdaya alam daerah memaksimalkan pariwisata Pulau Giligenting ditunjang dengan…', 'ABSTRAK Akhir-akhir maraknya pencurian kayu milik negara hutan masyarakat perumusan sanksi pidana dalam…', 'Penelitian bertujuan pengaruh motivasi kerja mediator self efficacy lingkungan kerja prestasi kerja…', 'Kedai kopi sampah salah usaha mencerminkan pemberdayaan masyarakat Kedai Kopi Sampah nama Kedai…', 'Abstrak Tenaga kerja orang pekerjaan menghasilkan barang jasa memenuhi kebutuhan sendiri…', 'Tujuan penelitian makna Bhubuhan diartikan bentuk pelunasan hutang pernikahan Madura terjadi…', 'Penelitian dilatar belakangi Bank Wakaf Mikro Sumber Barokah Denanyar Jombang salah BWM…', 'Penelitian bertujuan rata-rata hasil kemampuan berpikir kriti siswa materi pemanasan global berbasis pendekatan socioscientific…', 'Identifikasi atribut pejalan kaki salah penelitian dikembangkan peneliti computer vision fungsinya dianggap penting…', 'Abstrak Aprilia Puji Lestari  Program Studi Sosiologi Fakultas Ilmu Sosial Ilmu Budaya Universitas Trunojoyo Madura.…', 'Musha rakah Mutana akad pembiayaan muamalah Akad memiliki kriteria khusus kepemilikan asset barang modal bisa…', 'Perairan Soccah lokasi nelayan mencari ikan organisme laut udang rebon Acetes Udang rebon Acetes', 'Abstrak Rian Pandi Pranata  Program Studi Sosiologi Fakultas Ilmu Sosial Ilmu Budaya Universitas Trunojoyo Madura Analisis wacana…', 'Topik deteksi objek menarik perhatian perkembangan teknologi bidang computer vision Deteksi objek memiliki peranan sangat…', 'Sulfi Amalia ... English Study Program Analysis Category Shift English Translation Thesis Abstract Law…', 'Tujuan penelitian pengembangan ekonomi lokal wisata Jati Desa Goranggareng Kecamatan Nguntoronadi Kabupaten Magetan Pengembangan…', 'Mayarakat relawan Indonesia Surabaya terbentuk salah wadah relawan sosial kemanuisaan bantuan pamrih bentuk…', 'Siti Komariyah  Perbedaan kebahagiaan pasangan pernikahan Skripsi Program Studi Psikologi Fakultas Ilmu Sosial Ilmu…', 'Abstrak Dalam menyediakan hijauan pakan ternak potensi hijauan kebutuhan pakan optimal pakan digunakan…', 'Skripsi bertujuan menganalisis Stagnansi hubungan kelembagaan kewenangan komisi pemberantasan korupsi kepolisian Adanya fakta perseteruan antara…', 'Penelitian bertujuan self compassion survivor HIV-AIDS viral load terdeteksi Sejalan tujuan penelitian maka…', 'ABSTRAK Penelitian bertujuan Untuk bauran promosi periklanan penjualan pribadi promosi penjualan…', 'ABSTRAK Tujuan penelitian peran service performance climate organization parsial simultan untuk…', 'ABSTRAK Tujuan penelitian strategi bertahan hidup buruh tani wanita menghadapi…', 'ABSTRAK Penelitian bertujuan gambaran intimacy ayah single parent anak perempuannya Metode penelitian penelitian…', 'Tujuan penelitian mengambarkan bentuk perlawanan masyarakat Bedug Desa…', 'Information Retrieval pengambilan informasi tersimpan didalam dokumen berisikan konteks dokumen Adanya memiliki pengaruh…', 'ABSTRAK Rinda Pradina  Program Studi Ilmu Komunikasi Fakultas Ilmu Sosial Ilmu Budaya Universitas Trunojoyo Madura Supportiveness Single…', 'Investasi saham memiliki resiko kerugian pergerakan harga saham menentu meminimalkan resiko…', 'Ziarah makam kuburan tradisi leluhur kepulauan Indonesia…', 'Dianis industri rumah tangga memproduksi terasi tradisional hasil nelayan Desa Macajah menambah pendapatan yang…', 'Abstrak Zahriadi. Program Studi Sosiologi Fakultas Ilmu Sosial ilmu Budaya Universitas Trunojoyo Madura Pertukaran Sosial Tradisi Remo Studi…', 'Sungai Bancaran sungai Kabupaten Bangkalan merupakanperairan aktivitas manusia perairan sangat…', 'ABSTRAK Pada tahap-tahap produksi garam terbentuk lapisan kristal tipi bentuk dimensi yang…', 'Skripsi bejudul Analisis Investasi Syariah tinjau Al-Maslahah As-Salam Kecamatan Mojoagung Kabupaten Jombang Penelitian ini…', 'Lingkungan pantai wilayah mengalami perubahan bertemunya faktor berasal daratan dari…', 'Penelitian bertujuan menghasilkan perangkat pembelajaran kooperatif tipe mata pelajaran dasar desain grafis berbantuan medium kahoot kelas…', 'Desa Saobi Pulau Sapapan Saobi Bungin Nyarat kawasan memiliki ekosistem terumbu karang keberadaan ekosistem memiliki potensi…', 'abstrac', 'Makanan minuman khas ciri kekayaan sumberdaya alam daerah memaksimalkan pariwisata Pulau Giligenting ditunjang dengan…', 'ABSTRAK Akhir-akhir maraknya pencurian kayu milik negara hutan masyarakat perumusan sanksi pidana dalam…', 'Penelitian bertujuan pengaruh motivasi kerja mediator self efficacy lingkungan kerja prestasi kerja…', 'Penelitian bertujuan pengaruh pemberian dosis pupuk kandang sapi pertumbuhan kandungan serat pangan daun tanaman kolesom…', 'YULI WEDAYANTI  Program Studi Sosiologi Fakultas Ilmu Sosial Ilmu Budaya Universitas Trunojoyo Madura Skripsi Makna…', 'Abstrak Peran guru melestarikan kebudayaan masyarakat guru memiliki perana ditengah-tengah masyarakat.…', 'Laut Jawa Wilayah Pengelolaan Perikanan/ perairan potensial habitat kelompok jenis ikan pelagis…', 'Penelitian bertujuan membahas jenis tanda metadiscourse metadiscourse pidato Thunberg Penelitian metode…', 'Siti Maghfuro  Program Studi Sosiologi Fakultas Ilmu Sosial Ilmu Budaya Universitas Trunojoyo Madura Memaknai Gaya Hidup Penikmat Kopi…', 'MSDs Musculoskeletal Disorders gangguan cidera jaringan lunak tubuh otot tendon ligament Cidera terjadi…', 'ABSTRAK Tanaman Kolesom Talinum triangulare Jacq Willd jenis tanaman hortikultura hasil panen umbi pucuk berkhasiat…', 'Pulau Gili Ketapang salah daerah pusat perikanan tangkap Kabupaten Probolinggo Daerah memiliki luas wilayah', 'Biochar padatan kaya kandungan karbon hasil konversi biomassa prose pirolisis Pencampuran biochar pupuk kandang…', 'Tujuan Penelitian respon orang siswa kelas rendah pembelajaran daring permasalahan dihadapi…', 'Gerakan literasi mengalami permasalahan ketersediaan pengelolaan sumberdaya Berkaitan skripsi bertujuan untuk…', 'Penelitian judul Public Awareness Masyarakat Madura Konsep Halal Tourism Pariwisata Berkearifan Lokal bertujuan mengetahui…', 'Indonesia potensi pengembangan Industri pariwisata dinilai menjanjikan Banyaknya keberagaman destinasi contohnya wisata alam wisata buatan maupun…', 'ABSTRAK Analisis Peran Pesantren Dalam Pengembangan Insna Entrepreneur Studi Kasus Pondok Pesantren Darul Hikmah Burneh Bangkalan Kewirausahaan memiliki…', 'Abstrak Farida Yulistiana  Program Studi Sosiologi Pertukaran sosial tradisi sape tok-tok Tujuan penelitian adalah…', 'Rumah sakit salah instansi bidang pelayanan jasa kesehatan beroprasi penuh hari…', 'Tujuan penelitian Beban Operasional Pendapatan Operasional BOPO Loan Deposit Ratio Return', 'Literasi zakat pengetahuan keterampilan keyakinan mempengaruhi sikap perilaku meningkatkan kualitas pengambilan keputusan…', 'Penelitian berlokasikan Semen Indonesia Pabrik Tuban unit kerja packer Tuban Terdapat jenis kerusakan mesin yang…', 'Nilai perusahaan terpenting investor calon investor menanamkan dananya perusahaan Semakin berkembangnya…', 'Febrianti  Program Studi Sosiologi Fakultas Ilmu Sosial Ilmu Budaya Universitas Trunojoyo Madura Jaringan Sosial Pengusaha Kerajinan Limbah…', 'Penelitian bertujuan hubungan prokrastinasi akademik burnout perilaku plagiarisme mahasiswa psikologi Subjek penelitian adalah…', 'ABSTRAK Tujuan penelitian pengaruh faktor kualitas produk harga keputusan pembelian parsial…', 'Klasifikasi citra prose pengelompokan piksel citra kelas memiliki batasan Setiap kelas memiliki label…', 'ABSTRAK Penelitian bertujuan perhitungan tingkat hunian kamar Hotel Panglima Sampang analisis cost volume profit…', 'Abstrak Tujuan penelitian fenomena dialami Kelompok Dukungan Sebaya pasien ODHA Orang HIV/AIDS', 'ABSTRAK Uswatun Hasanah  Pengaruh Pelatihan Kompensasi Terhadap Produktivitas Kerja Dengan Kepuasan Kerja Sebagai Variabel intervening Pada PDAM Sumber…', 'Pengadilan agama salah kekuasaan kehakiman Indonesia tugas pokok pengadilan agama menerima memeriksa mengadili serta…', 'ABSTRAK Tujuan utama penelitian fotografi komunikasi pemasaran menarik minat pengunjung wisata Bukit…', 'Kedai kopi sampah salah usaha mencerminkan pemberdayaan masyarakat Kedai Kopi Sampah nama Kedai…', 'Abstrak Tenaga kerja orang pekerjaan menghasilkan barang jasa memenuhi kebutuhan sendiri…', 'Tujuan penelitian makna Bhubuhan diartikan bentuk pelunasan hutang pernikahan Madura terjadi…', 'Penelitian dilatar belakangi Bank Wakaf Mikro Sumber Barokah Denanyar Jombang salah BWM…', 'Identifikasi atribut pejalan kaki salah penelitian dikembangkan peneliti computer vision fungsinya dianggap penting…', 'Penelitian bertujuan rata-rata hasil kemampuan berpikir kriti siswa materi pemanasan global berbasis pendekatan socioscientific…', 'Abstrak Aprilia Puji Lestari  Program Studi Sosiologi Fakultas Ilmu Sosial Ilmu Budaya Universitas Trunojoyo Madura.…', 'Musha rakah Mutana akad pembiayaan muamalah Akad memiliki kriteria khusus kepemilikan asset barang modal bisa…', 'Sulfi Amalia ... English Study Program Analysis Category Shift English Translation Thesis Abstract Law…', 'Tujuan penelitian pengembangan ekonomi lokal wisata Jati Desa Goranggareng Kecamatan Nguntoronadi Kabupaten Magetan Pengembangan…', 'Mayarakat relawan Indonesia Surabaya terbentuk salah wadah relawan sosial kemanuisaan bantuan pamrih bentuk…', 'ABSTRAK Tujuan penelitian strategi bertahan hidup buruh tani wanita menghadapi…', 'ABSTRAK Penelitian bertujuan gambaran intimacy ayah single parent anak perempuannya Metode penelitian penelitian…', 'Tujuan penelitian mengambarkan bentuk perlawanan masyarakat Bedug Desa…', 'Penelitian bertujuan self compassion survivor HIV-AIDS viral load terdeteksi Sejalan tujuan penelitian maka…', 'ABSTRAK Penelitian bertujuan Untuk bauran promosi periklanan penjualan pribadi promosi penjualan…', 'ABSTRAK Tujuan penelitian peran service performance climate organization parsial simultan untuk…', 'Penelitian dilatarbelakangi kesulitan siswa menuangkan karya tulis puisi kurangnya pemanfaatan medium dalam…', 'ABSTRAK Abstrak Penelitian mengkaji bentuk kalimat analitis kontradiktif sintesis rubrik citizen reporter surat kabar Harian…', 'ABSTRAK Produksi garam krosok Salt House kualitas rendah segi fisik bersih…', 'Penelitian bertujuan meneliti penggambaran representasi promosi video pariwisata Lombok akun YouTube resmi pariwisata Indonesia Analasis…', 'ANALISIS BAHASA FIGURATIF YANG DIGUNAKAN DALAM LYRIK TERPILIH DARI LAGU KATY PERRY R.Ayu Suci Istighfar Aini Program Studi Bahasa Inggris', 'Abstrak Tujuan penelitian Hambatan Komunikasi Antar Budaya Mahasiswa Papua Madura deskriptif Mahasiswa Papua…', 'ABSTRAK Faktor-Faktor Mempengaruhi Minat Nasabah Membuka Rekening Tabungan Mantab Sidogiri Cabang Blega Pada zaman modern…', 'ABSTRAK Tanah Madura didominasi kompleks tanah mediteran merah berbahan induk batu kapur batu pasir Sehingga perhatian…', 'ABSTRAK Sari Meliya Intan ... Pengembangan Karakter Plot Cerpen Alice Munro Bear Came over Mountain Tesis.…', 'Hotel syariah hotel menjalankan kegiatan bisnis operasionalnya berdasarkan prinsip syariah Salah hotel syariah ialah…', 'Penelitian bertujuan pengaruh Operating Margin Kualitas Aktiva Produktif Financing Deposit Ratio…', 'ABSTRAK ANALISIS STRATEGI FUNDRAISING LEMBAGA AMIL ZAKAT DALAM MENDAPATKAN MUZAKKI MUNFAQIN Studi Kasus Lazismu Pamekasan Lazismu pamekasan salah…', 'Penelitian judul Analisis Penerapan Sistem Penjaminan Halal Produk Makanan Minuman Berbahan Dasar Cokelat Pada Kampung Coklat Blitar…', 'ABSTRAK Kebahagiaan wisatawan domestik diraih salah satunya petualangan tantangan mendaki gunung…', 'Pengendalian kualitas upaya mempertahankan meningkatkan kualitas produk sesuai sesuai dengan…', 'Peminjaman dana sistem online masyarakat dianggap praktis rumit Setelah persyaratan dipenuhi masyarakat', 'Ambar Kusuma  Pengaruh Gratitude Tehadap Kepuasan Hidup Pada Komunitas HIV/AIDS Friendship Plus Sebaya Kediri Skripsi Program Studi Psikologi', 'ABSTRAK Minimarket pasar modern pasar swalayan memiliki kasir Dengan perubahan…', 'Handayanie  Pengaruh Motivasi Belanja Hedonis Emosi Positif Terhadap Impulsive Buying Remaja Akhir Skripsi Program Studi…', 'ABSTRAK Handayanie  Pengaruh Motivasi Belanja Hedonis Emosi Positif Terhadap Impulsive Buying Skripsi Program Studi Psikologi Fakultas…', 'Penelitian latar belakangi perangkat pembelajaran sekolah format KTSP kurikulum  sesuai…', 'Garam salah komoditas perekonomian kawasan pesisir Proses produksi garam metode tradisional faktor…', 'Kebutuhan garam Indonesia seiring bertambahnya penduduk dimanfaatkan garam konsumsi industri meningkat Produksi garam indonesia…', 'Penelitian lapangan bertujuan bentuk pelindungan konsumen pencantuman label halal sertifikasi LPPOM', 'Tujuan penelitian kemampuan jenis kesalahan siswa menyelesaikan HOTS Penelitian penilitian…', 'ABSTRAK Kabupaten Sampang salah kabupaten terletak Pulau Madura.Kabupaten Sampang memiliki potensi sumberdaya alam menunjang…', 'Pola tanam teknik petani menentukan jenis tanam usaha taninya Pamekasan umumnya…', 'ABSTRAK Kewirausahaan kemampuan menciptakan berpikir kreatif bertindak inovatif menciptakan peluang Konsep dan…', 'Penelitian dilatar belakangi dunia keuangan islam penerapan akad syariah dunia technologi finansial Kandang.in…', 'Fortifikasi metode penambahan mikronutrien bahan makanan tujuan utama meningkatkan gizi suatu…', 'Produk ramah lingkungan mengurangi pencemaran lingkungan konsumsi jangka Tujuan penelitian adalah…', 'Penelitian bertujuan mendeskripsikan faktor mempengaruhi kemampuan berpikir kriti metakognisi siswa materi pemanasan global Penelitian ini…', 'Zakat salah Hukum Islam mengalami perkembangan sesuai zamannya zakat bentuk ibadah yang…', 'Tsunami gelombang pasang dibangkitkan gempa tektonik letusan gunung lautan tanah longsor Bencana yang…', 'Abstrak Penelitian bertujuan pengaruh adversity quotient intensi berwirausaha masyarakat pesisir Desa Ambunten Timur Kecamatan…', 'Penelitian bertujuan pengunaan medium modul bahan pewarna batik banyuates madura siswa kelas VIII…', 'ABSTRAK MODEL PEMBERDAYAAN SANTRIPRENEUR DALAM MENINGKATKAN PEREKONOMIAN PESANTREN Studi Kasus Al-Amien Prenduan Sumenep Madura Pulau Madura dikenal dengan…', 'ABSTRAK Abstrak Peribahasa kalimat penggalan kalimat bersifat turun-temurun makna khusus pemakaian bahasa.…', 'Penelitian bertujuan mengidentifikasi persentase prose kemampuan berpikir kriti siswa kelas Penelitian jenis penelitian campuran…', 'Tambak garam lahan penentu pengaruh faktor produksi garam Habitat mikroalga hidup ditempat yang…', 'Tujuan penelitian strategi retorika penutur amal masjid jalanan Kecamatan Tanah Merah Kecamatan…', 'Sepak bola salah olahraga digemari remaja belahan dunia abad…', 'Pesisir Pantai Kenjeran kawasan potensi wisata ekonomi ekologis banyaknya aktivitas nelayan Kegiatan menyebabkan…', 'ABSTRACT Nafilatun Nasuha  Analysis Personal Pronouns Donald Trump Speech Critical Discourse Analysis Thesis.English Study Program', 'Mikroplastik sampah plastik mengalami degradasi terurai partikel-partikel plastik Keberadaan mikroplastik', 'Penelitian bertujuan kelayakan keterbacaan respons siswa Lembaran kerja siswa Menggunakan model pengembangan meliputi Define', 'Perbedaan harga diterapkan pemilik jasa transportasi objek wisata kerap kebiasaan masyarakat Sesuatu kebiasaan…', 'ABSTRAK Remoh blater diadakan berkumpulnya blater desa Kabupaten Bangkalan keuntungan dari…', 'Penduduk Indonesia mayoritas beragama Islam mewajibkan umat muslim mengkonsumsi produk bersertifikasi halal Sebuah produk bersertifikasi halal MUI…', 'Perguruan Tinggi salah jenjang pendidikan Sekolah Menengah Atas menyeleksi penerimaan mahasiswa berdasarkan jalur prestasi', 'ABSTRAK Tsunami bencana ancaman masyarakat wilayah pesisir.Tsunami kerusakan daratan…', 'Apie Indo Karunia perusahaan bidang industri manufaktur memproduksi produk berbahan dasar logam Produk diproduksi…', 'Penelitian bertujuan persentase miskonsepsi siswa faktor-faktor penyebab miskonsepsi siswa Penelitian ini…', 'ABSTRAK Pengaruh Integrated Marketing Communication Kualitas Layanan Terhadap Kepuasan Peziarah Pada Makam Religi Bangkalan Studi Kasus Makam Syaikhona…', 'Financial Distress ketidakmampuan perusahaan memenuhi kewajibannya Analisis bahan evaluasi perusahaan memperbaiki kinerja perusahaan…', 'Rajungan Portunus pelagicus komoditas nilai ekonomi permintaan pasar luar…', 'ABSTRAK Rendra Fresty Pratiwi  Program Studi Psikologi Perbedaan Strategi Coping Ditinjau Tipe Kepribadian Ekstrovert Introvert Pada Anak…', 'Meningkatnya kandungan karbon dioksida udara menyebabkan kenaikan suhu bumi efek rumah kaca/pemanasan global Penelitian bertujuan…', 'Sentra Industri Songkok sekumpulan unit usaha menghasilkan produk sejenis menyerap tenaga kerja local …', 'ABSTRAK LITERASI HALAL SERTIKASI HALAL PADA PELAKU KRIPIK SINGKONG MANDING Halal Lifestyle Indonesia ini…', 'Penelitian berjudul Bias Gender Jurnalis Perempuan Media Massa Kota Bangkalan meneliti motivasi memilih profesi jurnalis diskriminasi', 'Skripsi berjudul tinjauan sosiologi hukum Islam praktik jual beli bahan pokok makanan tempo studi kasus…', 'ABSTRAK ANALISIS MANAJEMEN RISIKO PEMBIAYAAN DANA TALANGAN UMROH PADA TABUNG HAJI UMROH YULIANTO FOUNDATION SURABAYA Tabung Haji Umroh…', 'ABSTRAK Nurul Habibah. Program Studi Sosiologi Fakultas Ilmu Sosial Budaya Universitas Trunojoyo Madura Pertukaran Sosial Tradisi Timang Manten…', 'ABSTRAK Vikki Hidayat  Pengaruh Kualitas Kehidupan Kerja Kepuasan Kerja Petani Garam Kecamatan Kalianget Sumenep Skripsi Program…', 'Abstrak Penelitian bertujuan motivasi berprestasi petambak garam Penelitian metode penelitian deskriptif kualitatif pendekatan fenomenologi.…', 'Abstrak Tujuan penelitian gambaran pendampingan orang prose belajar anak persepsi anak…', 'ABSTRAK Ririn Octaviani  Pengaruh Regulasi Diri Prokrastinasi Akademik Mahasiswa Bidikmisi Melampaui Batas Masa Studi Normal', 'Sungai Bancaran sungai Kabupaten Bangkalan merupakanperairan aktivitas manusia perairan sangat…', 'ABSTRAK Pada tahap-tahap produksi garam terbentuk lapisan kristal tipi bentuk dimensi yang…', 'Skripsi bejudul Analisis Investasi Syariah tinjau Al-Maslahah As-Salam Kecamatan Mojoagung Kabupaten Jombang Penelitian ini…', 'Ziarah makam kuburan tradisi leluhur kepulauan Indonesia…', 'Dianis industri rumah tangga memproduksi terasi tradisional hasil nelayan Desa Macajah menambah pendapatan yang…', 'Abstrak Zahriadi. Program Studi Sosiologi Fakultas Ilmu Sosial ilmu Budaya Universitas Trunojoyo Madura Pertukaran Sosial Tradisi Remo Studi…', 'Information Retrieval pengambilan informasi tersimpan didalam dokumen berisikan konteks dokumen Adanya memiliki pengaruh…', 'ABSTRAK Rinda Pradina  Program Studi Ilmu Komunikasi Fakultas Ilmu Sosial Ilmu Budaya Universitas Trunojoyo Madura Supportiveness Single…', 'Investasi saham memiliki resiko kerugian pergerakan harga saham menentu meminimalkan resiko…', 'Lingkungan pantai wilayah mengalami perubahan bertemunya faktor berasal daratan dari…', 'Penelitian bertujuan menghasilkan perangkat pembelajaran kooperatif tipe mata pelajaran dasar desain grafis berbantuan medium kahoot kelas…', 'Desa Saobi Pulau Sapapan Saobi Bungin Nyarat kawasan memiliki ekosistem terumbu karang keberadaan ekosistem memiliki potensi…', 'Kegiatan pembelajaran medium pembelajaran sederhana medium dimensi gambar poster media…', 'Penelitian bertujuan Manajemen Konflik Perempuan Madura Yang Memutuskan Untuk Kuliah Studi Kasus Perempuan Madura Yang Hidup Dalam…', 'Permasalahan ditemui produksi jagung dilahan pertanian Kecamatan Socah tergolong rendah dibandingkan penghasil jagung…', 'Siti Komariyah  Perbedaan kebahagiaan pasangan pernikahan Skripsi Program Studi Psikologi Fakultas Ilmu Sosial Ilmu…', 'Abstrak Dalam menyediakan hijauan pakan ternak potensi hijauan kebutuhan pakan optimal pakan digunakan…', 'Skripsi bertujuan menganalisis Stagnansi hubungan kelembagaan kewenangan komisi pemberantasan korupsi kepolisian Adanya fakta perseteruan antara…', 'ABSTRAK Afiyah Nurisnaini  Program Studi Psikologi Hubungan Strategi Coping Psychological Well Being Narapidana Lansia Lembaga Pemasyarakatan…', 'Penelitian bertujuan menganalisis kemampuan pemecahan siswa menyelesaikan kemampuan pemecahan Jenis penelitian…', 'Halal Value Chain upaya terintegrasi industri input produksi distribusi pemasaran komsumsi Dalam menghasilkan produk halal', 'ABSTRAK makanan dikonsumsi masyarakat dunia Indonesia seringkali menggantikan…', 'Tanaman kolesom Talinum triangulare Jacq Willd memiliki keunggulan bahan baku obat umbi pucuknya sebagai…', 'Penelitian mengambil objek Adiluhung Saranasegara Indonesia menguji pengaruh lingkungan kerja fisik disiplin Kerja…', 'Perairan Soccah lokasi nelayan mencari ikan organisme laut udang rebon Acetes Udang rebon Acetes', 'Abstrak Rian Pandi Pranata  Program Studi Sosiologi Fakultas Ilmu Sosial Ilmu Budaya Universitas Trunojoyo Madura Analisis wacana…', 'Topik deteksi objek menarik perhatian perkembangan teknologi bidang computer vision Deteksi objek memiliki peranan sangat…']\n"
     ]
    }
   ],
   "source": [
    "dokumen2=[]\n",
    "for i in dokumenre:\n",
    "    hasil =  i.replace('\\n','') \n",
    "    dokumen2.append(hasil) \n",
    "print(dokumen2)"
   ]
  },
  {
   "cell_type": "markdown",
   "metadata": {},
   "source": [
    "cara menghilangkan angka pada setiap kata dengan cara menggunakan library regex dan memanfaatkan looping untuk memprosesnya"
   ]
  },
  {
   "cell_type": "markdown",
   "metadata": {},
   "source": [
    "**MENGHILANGKAN KATA HUBUNG**"
   ]
  },
  {
   "cell_type": "code",
   "execution_count": 86,
   "metadata": {},
   "outputs": [],
   "source": [
    "from Sastrawi.StopWordRemover.StopWordRemoverFactory import StopWordRemoverFactory\n",
    "from nltk.tokenize import word_tokenize\n",
    "factory = StopWordRemoverFactory()\n",
    "stopword  = factory.create_stop_word_remover()"
   ]
  },
  {
   "cell_type": "code",
   "execution_count": 87,
   "metadata": {},
   "outputs": [
    {
     "name": "stdout",
     "output_type": "stream",
     "text": [
      "['abstrac', 'Makanan minuman khas ciri kekayaan sumberdaya alam daerah memaksimalkan pariwisata Pulau Giligenting ditunjang dengan…', 'ABSTRAK Akhir-akhir maraknya pencurian kayu milik negara hutan masyarakat perumusan sanksi pidana dalam…', 'Penelitian bertujuan pengaruh motivasi kerja mediator self efficacy lingkungan kerja prestasi kerja…', 'Kedai kopi sampah salah usaha mencerminkan pemberdayaan masyarakat Kedai Kopi Sampah nama Kedai…', 'Abstrak Tenaga kerja orang pekerjaan menghasilkan barang jasa memenuhi kebutuhan sendiri…', 'Tujuan penelitian makna Bhubuhan diartikan bentuk pelunasan hutang pernikahan Madura terjadi…', 'Penelitian dilatar belakangi Bank Wakaf Mikro Sumber Barokah Denanyar Jombang salah BWM…', 'Penelitian bertujuan rata-rata hasil kemampuan berpikir kriti siswa materi pemanasan global berbasis pendekatan socioscientific…', 'Identifikasi atribut pejalan kaki salah penelitian dikembangkan peneliti computer vision fungsinya dianggap penting…', 'Abstrak Aprilia Puji Lestari  Program Studi Sosiologi Fakultas Ilmu Sosial Ilmu Budaya Universitas Trunojoyo Madura.…', 'Musha rakah Mutana akad pembiayaan muamalah Akad memiliki kriteria khusus kepemilikan asset barang modal bisa…', 'Perairan Soccah lokasi nelayan mencari ikan organisme laut udang rebon Acetes Udang rebon Acetes', 'Abstrak Rian Pandi Pranata  Program Studi Sosiologi Fakultas Ilmu Sosial Ilmu Budaya Universitas Trunojoyo Madura Analisis wacana…', 'Topik deteksi objek menarik perhatian perkembangan teknologi bidang computer vision Deteksi objek memiliki peranan sangat…', 'Sulfi Amalia ... English Study Program Analysis Category Shift English Translation Thesis Abstract Law…', 'Tujuan penelitian pengembangan ekonomi lokal wisata Jati Desa Goranggareng Kecamatan Nguntoronadi Kabupaten Magetan Pengembangan…', 'Mayarakat relawan Indonesia Surabaya terbentuk salah wadah relawan sosial kemanuisaan bantuan pamrih bentuk…', 'Siti Komariyah  Perbedaan kebahagiaan pasangan pernikahan Skripsi Program Studi Psikologi Fakultas Ilmu Sosial Ilmu…', 'Abstrak Dalam menyediakan hijauan pakan ternak potensi hijauan kebutuhan pakan optimal pakan digunakan…', 'Skripsi bertujuan menganalisis Stagnansi hubungan kelembagaan kewenangan komisi pemberantasan korupsi kepolisian Adanya fakta perseteruan antara…', 'Penelitian bertujuan self compassion survivor HIV-AIDS viral load terdeteksi Sejalan tujuan penelitian maka…', 'ABSTRAK Penelitian bertujuan Untuk bauran promosi periklanan penjualan pribadi promosi penjualan…', 'ABSTRAK Tujuan penelitian peran service performance climate organization parsial simultan untuk…', 'ABSTRAK Tujuan penelitian strategi bertahan hidup buruh tani wanita menghadapi…', 'ABSTRAK Penelitian bertujuan gambaran intimacy ayah single parent anak perempuannya Metode penelitian penelitian…', 'Tujuan penelitian mengambarkan bentuk perlawanan masyarakat Bedug Desa…', 'Information Retrieval pengambilan informasi tersimpan didalam dokumen berisikan konteks dokumen Adanya memiliki pengaruh…', 'ABSTRAK Rinda Pradina  Program Studi Ilmu Komunikasi Fakultas Ilmu Sosial Ilmu Budaya Universitas Trunojoyo Madura Supportiveness Single…', 'Investasi saham memiliki resiko kerugian pergerakan harga saham menentu meminimalkan resiko…', 'Ziarah makam kuburan tradisi leluhur kepulauan Indonesia…', 'Dianis industri rumah tangga memproduksi terasi tradisional hasil nelayan Desa Macajah menambah pendapatan yang…', 'Abstrak Zahriadi. Program Studi Sosiologi Fakultas Ilmu Sosial ilmu Budaya Universitas Trunojoyo Madura Pertukaran Sosial Tradisi Remo Studi…', 'Sungai Bancaran sungai Kabupaten Bangkalan merupakanperairan aktivitas manusia perairan sangat…', 'ABSTRAK Pada tahap-tahap produksi garam terbentuk lapisan kristal tipi bentuk dimensi yang…', 'Skripsi bejudul Analisis Investasi Syariah tinjau Al-Maslahah As-Salam Kecamatan Mojoagung Kabupaten Jombang Penelitian ini…', 'Lingkungan pantai wilayah mengalami perubahan bertemunya faktor berasal daratan dari…', 'Penelitian bertujuan menghasilkan perangkat pembelajaran kooperatif tipe mata pelajaran dasar desain grafis berbantuan medium kahoot kelas…', 'Desa Saobi Pulau Sapapan Saobi Bungin Nyarat kawasan memiliki ekosistem terumbu karang keberadaan ekosistem memiliki potensi…', 'abstrac', 'Makanan minuman khas ciri kekayaan sumberdaya alam daerah memaksimalkan pariwisata Pulau Giligenting ditunjang dengan…', 'ABSTRAK Akhir-akhir maraknya pencurian kayu milik negara hutan masyarakat perumusan sanksi pidana dalam…', 'Penelitian bertujuan pengaruh motivasi kerja mediator self efficacy lingkungan kerja prestasi kerja…', 'Penelitian bertujuan pengaruh pemberian dosis pupuk kandang sapi pertumbuhan kandungan serat pangan daun tanaman kolesom…', 'YULI WEDAYANTI  Program Studi Sosiologi Fakultas Ilmu Sosial Ilmu Budaya Universitas Trunojoyo Madura Skripsi Makna…', 'Abstrak Peran guru melestarikan kebudayaan masyarakat guru memiliki perana ditengah-tengah masyarakat.…', 'Laut Jawa Wilayah Pengelolaan Perikanan/ perairan potensial habitat kelompok jenis ikan pelagis…', 'Penelitian bertujuan membahas jenis tanda metadiscourse metadiscourse pidato Thunberg Penelitian metode…', 'Siti Maghfuro  Program Studi Sosiologi Fakultas Ilmu Sosial Ilmu Budaya Universitas Trunojoyo Madura Memaknai Gaya Hidup Penikmat Kopi…', 'MSDs Musculoskeletal Disorders gangguan cidera jaringan lunak tubuh otot tendon ligament Cidera terjadi…', 'ABSTRAK Tanaman Kolesom Talinum triangulare Jacq Willd jenis tanaman hortikultura hasil panen umbi pucuk berkhasiat…', 'Pulau Gili Ketapang salah daerah pusat perikanan tangkap Kabupaten Probolinggo Daerah memiliki luas wilayah', 'Biochar padatan kaya kandungan karbon hasil konversi biomassa prose pirolisis Pencampuran biochar pupuk kandang…', 'Tujuan Penelitian respon orang siswa kelas rendah pembelajaran daring permasalahan dihadapi…', 'Gerakan literasi mengalami permasalahan ketersediaan pengelolaan sumberdaya Berkaitan skripsi bertujuan untuk…', 'Penelitian judul Public Awareness Masyarakat Madura Konsep Halal Tourism Pariwisata Berkearifan Lokal bertujuan mengetahui…', 'Indonesia potensi pengembangan Industri pariwisata dinilai menjanjikan Banyaknya keberagaman destinasi contohnya wisata alam wisata buatan maupun…', 'ABSTRAK Analisis Peran Pesantren Dalam Pengembangan Insna Entrepreneur Studi Kasus Pondok Pesantren Darul Hikmah Burneh Bangkalan Kewirausahaan memiliki…', 'Abstrak Farida Yulistiana  Program Studi Sosiologi Pertukaran sosial tradisi sape tok-tok Tujuan penelitian adalah…', 'Rumah sakit salah instansi bidang pelayanan jasa kesehatan beroprasi penuh hari…', 'Tujuan penelitian Beban Operasional Pendapatan Operasional BOPO Loan Deposit Ratio Return', 'Literasi zakat pengetahuan keterampilan keyakinan mempengaruhi sikap perilaku meningkatkan kualitas pengambilan keputusan…', 'Penelitian berlokasikan Semen Indonesia Pabrik Tuban unit kerja packer Tuban Terdapat jenis kerusakan mesin yang…', 'Nilai perusahaan terpenting investor calon investor menanamkan dananya perusahaan Semakin berkembangnya…', 'Febrianti  Program Studi Sosiologi Fakultas Ilmu Sosial Ilmu Budaya Universitas Trunojoyo Madura Jaringan Sosial Pengusaha Kerajinan Limbah…', 'Penelitian bertujuan hubungan prokrastinasi akademik burnout perilaku plagiarisme mahasiswa psikologi Subjek penelitian adalah…', 'ABSTRAK Tujuan penelitian pengaruh faktor kualitas produk harga keputusan pembelian parsial…', 'Klasifikasi citra prose pengelompokan piksel citra kelas memiliki batasan Setiap kelas memiliki label…', 'ABSTRAK Penelitian bertujuan perhitungan tingkat hunian kamar Hotel Panglima Sampang analisis cost volume profit…', 'Abstrak Tujuan penelitian fenomena dialami Kelompok Dukungan Sebaya pasien ODHA Orang HIV/AIDS', 'ABSTRAK Uswatun Hasanah  Pengaruh Pelatihan Kompensasi Terhadap Produktivitas Kerja Dengan Kepuasan Kerja Sebagai Variabel intervening Pada PDAM Sumber…', 'Pengadilan agama salah kekuasaan kehakiman Indonesia tugas pokok pengadilan agama menerima memeriksa mengadili serta…', 'ABSTRAK Tujuan utama penelitian fotografi komunikasi pemasaran menarik minat pengunjung wisata Bukit…', 'Kedai kopi sampah salah usaha mencerminkan pemberdayaan masyarakat Kedai Kopi Sampah nama Kedai…', 'Abstrak Tenaga kerja orang pekerjaan menghasilkan barang jasa memenuhi kebutuhan sendiri…', 'Tujuan penelitian makna Bhubuhan diartikan bentuk pelunasan hutang pernikahan Madura terjadi…', 'Penelitian dilatar belakangi Bank Wakaf Mikro Sumber Barokah Denanyar Jombang salah BWM…', 'Identifikasi atribut pejalan kaki salah penelitian dikembangkan peneliti computer vision fungsinya dianggap penting…', 'Penelitian bertujuan rata-rata hasil kemampuan berpikir kriti siswa materi pemanasan global berbasis pendekatan socioscientific…', 'Abstrak Aprilia Puji Lestari  Program Studi Sosiologi Fakultas Ilmu Sosial Ilmu Budaya Universitas Trunojoyo Madura.…', 'Musha rakah Mutana akad pembiayaan muamalah Akad memiliki kriteria khusus kepemilikan asset barang modal bisa…', 'Sulfi Amalia ... English Study Program Analysis Category Shift English Translation Thesis Abstract Law…', 'Tujuan penelitian pengembangan ekonomi lokal wisata Jati Desa Goranggareng Kecamatan Nguntoronadi Kabupaten Magetan Pengembangan…', 'Mayarakat relawan Indonesia Surabaya terbentuk salah wadah relawan sosial kemanuisaan bantuan pamrih bentuk…', 'ABSTRAK Tujuan penelitian strategi bertahan hidup buruh tani wanita menghadapi…', 'ABSTRAK Penelitian bertujuan gambaran intimacy ayah single parent anak perempuannya Metode penelitian penelitian…', 'Tujuan penelitian mengambarkan bentuk perlawanan masyarakat Bedug Desa…', 'Penelitian bertujuan self compassion survivor HIV-AIDS viral load terdeteksi Sejalan tujuan penelitian maka…', 'ABSTRAK Penelitian bertujuan Untuk bauran promosi periklanan penjualan pribadi promosi penjualan…', 'ABSTRAK Tujuan penelitian peran service performance climate organization parsial simultan untuk…', 'Penelitian dilatarbelakangi kesulitan siswa menuangkan karya tulis puisi kurangnya pemanfaatan medium dalam…', 'ABSTRAK Abstrak Penelitian mengkaji bentuk kalimat analitis kontradiktif sintesis rubrik citizen reporter surat kabar Harian…', 'ABSTRAK Produksi garam krosok Salt House kualitas rendah segi fisik bersih…', 'Penelitian bertujuan meneliti penggambaran representasi promosi video pariwisata Lombok akun YouTube resmi pariwisata Indonesia Analasis…', 'ANALISIS BAHASA FIGURATIF YANG DIGUNAKAN DALAM LYRIK TERPILIH DARI LAGU KATY PERRY R.Ayu Suci Istighfar Aini Program Studi Bahasa Inggris', 'Abstrak Tujuan penelitian Hambatan Komunikasi Antar Budaya Mahasiswa Papua Madura deskriptif Mahasiswa Papua…', 'ABSTRAK Faktor-Faktor Mempengaruhi Minat Nasabah Membuka Rekening Tabungan Mantab Sidogiri Cabang Blega Pada zaman modern…', 'ABSTRAK Tanah Madura didominasi kompleks tanah mediteran merah berbahan induk batu kapur batu pasir Sehingga perhatian…', 'ABSTRAK Sari Meliya Intan ... Pengembangan Karakter Plot Cerpen Alice Munro Bear Came over Mountain Tesis.…', 'Hotel syariah hotel menjalankan kegiatan bisnis operasionalnya berdasarkan prinsip syariah Salah hotel syariah ialah…', 'Penelitian bertujuan pengaruh Operating Margin Kualitas Aktiva Produktif Financing Deposit Ratio…', 'ABSTRAK ANALISIS STRATEGI FUNDRAISING LEMBAGA AMIL ZAKAT DALAM MENDAPATKAN MUZAKKI MUNFAQIN Studi Kasus Lazismu Pamekasan Lazismu pamekasan salah…', 'Penelitian judul Analisis Penerapan Sistem Penjaminan Halal Produk Makanan Minuman Berbahan Dasar Cokelat Pada Kampung Coklat Blitar…', 'ABSTRAK Kebahagiaan wisatawan domestik diraih salah satunya petualangan tantangan mendaki gunung…', 'Pengendalian kualitas upaya mempertahankan meningkatkan kualitas produk sesuai sesuai dengan…', 'Peminjaman dana sistem online masyarakat dianggap praktis rumit Setelah persyaratan dipenuhi masyarakat', 'Ambar Kusuma  Pengaruh Gratitude Tehadap Kepuasan Hidup Pada Komunitas HIV/AIDS Friendship Plus Sebaya Kediri Skripsi Program Studi Psikologi', 'ABSTRAK Minimarket pasar modern pasar swalayan memiliki kasir Dengan perubahan…', 'Handayanie  Pengaruh Motivasi Belanja Hedonis Emosi Positif Terhadap Impulsive Buying Remaja Akhir Skripsi Program Studi…', 'ABSTRAK Handayanie  Pengaruh Motivasi Belanja Hedonis Emosi Positif Terhadap Impulsive Buying Skripsi Program Studi Psikologi Fakultas…', 'Penelitian latar belakangi perangkat pembelajaran sekolah format KTSP kurikulum  sesuai…', 'Garam salah komoditas perekonomian kawasan pesisir Proses produksi garam metode tradisional faktor…', 'Kebutuhan garam Indonesia seiring bertambahnya penduduk dimanfaatkan garam konsumsi industri meningkat Produksi garam indonesia…', 'Penelitian lapangan bertujuan bentuk pelindungan konsumen pencantuman label halal sertifikasi LPPOM', 'Tujuan penelitian kemampuan jenis kesalahan siswa menyelesaikan HOTS Penelitian penilitian…', 'ABSTRAK Kabupaten Sampang salah kabupaten terletak Pulau Madura.Kabupaten Sampang memiliki potensi sumberdaya alam menunjang…', 'Pola tanam teknik petani menentukan jenis tanam usaha taninya Pamekasan umumnya…', 'ABSTRAK Kewirausahaan kemampuan menciptakan berpikir kreatif bertindak inovatif menciptakan peluang Konsep dan…', 'Penelitian dilatar belakangi dunia keuangan islam penerapan akad syariah dunia technologi finansial Kandang.in…', 'Fortifikasi metode penambahan mikronutrien bahan makanan tujuan utama meningkatkan gizi suatu…', 'Produk ramah lingkungan mengurangi pencemaran lingkungan konsumsi jangka Tujuan penelitian adalah…', 'Penelitian bertujuan mendeskripsikan faktor mempengaruhi kemampuan berpikir kriti metakognisi siswa materi pemanasan global Penelitian ini…', 'Zakat salah Hukum Islam mengalami perkembangan sesuai zamannya zakat bentuk ibadah yang…', 'Tsunami gelombang pasang dibangkitkan gempa tektonik letusan gunung lautan tanah longsor Bencana yang…', 'Abstrak Penelitian bertujuan pengaruh adversity quotient intensi berwirausaha masyarakat pesisir Desa Ambunten Timur Kecamatan…', 'Penelitian bertujuan pengunaan medium modul bahan pewarna batik banyuates madura siswa kelas VIII…', 'ABSTRAK MODEL PEMBERDAYAAN SANTRIPRENEUR DALAM MENINGKATKAN PEREKONOMIAN PESANTREN Studi Kasus Al-Amien Prenduan Sumenep Madura Pulau Madura dikenal dengan…', 'ABSTRAK Abstrak Peribahasa kalimat penggalan kalimat bersifat turun-temurun makna khusus pemakaian bahasa.…', 'Penelitian bertujuan mengidentifikasi persentase prose kemampuan berpikir kriti siswa kelas Penelitian jenis penelitian campuran…', 'Tambak garam lahan penentu pengaruh faktor produksi garam Habitat mikroalga hidup ditempat yang…', 'Tujuan penelitian strategi retorika penutur amal masjid jalanan Kecamatan Tanah Merah Kecamatan…', 'Sepak bola salah olahraga digemari remaja belahan dunia abad…', 'Pesisir Pantai Kenjeran kawasan potensi wisata ekonomi ekologis banyaknya aktivitas nelayan Kegiatan menyebabkan…', 'ABSTRACT Nafilatun Nasuha  Analysis Personal Pronouns Donald Trump Speech Critical Discourse Analysis Thesis.English Study Program', 'Mikroplastik sampah plastik mengalami degradasi terurai partikel-partikel plastik Keberadaan mikroplastik', 'Penelitian bertujuan kelayakan keterbacaan respons siswa Lembaran kerja siswa Menggunakan model pengembangan meliputi Define', 'Perbedaan harga diterapkan pemilik jasa transportasi objek wisata kerap kebiasaan masyarakat Sesuatu kebiasaan…', 'ABSTRAK Remoh blater diadakan berkumpulnya blater desa Kabupaten Bangkalan keuntungan dari…', 'Penduduk Indonesia mayoritas beragama Islam mewajibkan umat muslim mengkonsumsi produk bersertifikasi halal Sebuah produk bersertifikasi halal MUI…', 'Perguruan Tinggi salah jenjang pendidikan Sekolah Menengah Atas menyeleksi penerimaan mahasiswa berdasarkan jalur prestasi', 'ABSTRAK Tsunami bencana ancaman masyarakat wilayah pesisir.Tsunami kerusakan daratan…', 'Apie Indo Karunia perusahaan bidang industri manufaktur memproduksi produk berbahan dasar logam Produk diproduksi…', 'Penelitian bertujuan persentase miskonsepsi siswa faktor-faktor penyebab miskonsepsi siswa Penelitian ini…', 'ABSTRAK Pengaruh Integrated Marketing Communication Kualitas Layanan Terhadap Kepuasan Peziarah Pada Makam Religi Bangkalan Studi Kasus Makam Syaikhona…', 'Financial Distress ketidakmampuan perusahaan memenuhi kewajibannya Analisis bahan evaluasi perusahaan memperbaiki kinerja perusahaan…', 'Rajungan Portunus pelagicus komoditas nilai ekonomi permintaan pasar luar…', 'ABSTRAK Rendra Fresty Pratiwi  Program Studi Psikologi Perbedaan Strategi Coping Ditinjau Tipe Kepribadian Ekstrovert Introvert Pada Anak…', 'Meningkatnya kandungan karbon dioksida udara menyebabkan kenaikan suhu bumi efek rumah kaca/pemanasan global Penelitian bertujuan…', 'Sentra Industri Songkok sekumpulan unit usaha menghasilkan produk sejenis menyerap tenaga kerja local …', 'ABSTRAK LITERASI HALAL SERTIKASI HALAL PADA PELAKU KRIPIK SINGKONG MANDING Halal Lifestyle Indonesia ini…', 'Penelitian berjudul Bias Gender Jurnalis Perempuan Media Massa Kota Bangkalan meneliti motivasi memilih profesi jurnalis diskriminasi', 'Skripsi berjudul tinjauan sosiologi hukum Islam praktik jual beli bahan pokok makanan tempo studi kasus…', 'ABSTRAK ANALISIS MANAJEMEN RISIKO PEMBIAYAAN DANA TALANGAN UMROH PADA TABUNG HAJI UMROH YULIANTO FOUNDATION SURABAYA Tabung Haji Umroh…', 'ABSTRAK Nurul Habibah. Program Studi Sosiologi Fakultas Ilmu Sosial Budaya Universitas Trunojoyo Madura Pertukaran Sosial Tradisi Timang Manten…', 'ABSTRAK Vikki Hidayat  Pengaruh Kualitas Kehidupan Kerja Kepuasan Kerja Petani Garam Kecamatan Kalianget Sumenep Skripsi Program…', 'Abstrak Penelitian bertujuan motivasi berprestasi petambak garam Penelitian metode penelitian deskriptif kualitatif pendekatan fenomenologi.…', 'Abstrak Tujuan penelitian gambaran pendampingan orang prose belajar anak persepsi anak…', 'ABSTRAK Ririn Octaviani  Pengaruh Regulasi Diri Prokrastinasi Akademik Mahasiswa Bidikmisi Melampaui Batas Masa Studi Normal', 'Sungai Bancaran sungai Kabupaten Bangkalan merupakanperairan aktivitas manusia perairan sangat…', 'ABSTRAK Pada tahap-tahap produksi garam terbentuk lapisan kristal tipi bentuk dimensi yang…', 'Skripsi bejudul Analisis Investasi Syariah tinjau Al-Maslahah As-Salam Kecamatan Mojoagung Kabupaten Jombang Penelitian ini…', 'Ziarah makam kuburan tradisi leluhur kepulauan Indonesia…', 'Dianis industri rumah tangga memproduksi terasi tradisional hasil nelayan Desa Macajah menambah pendapatan yang…', 'Abstrak Zahriadi. Program Studi Sosiologi Fakultas Ilmu Sosial ilmu Budaya Universitas Trunojoyo Madura Pertukaran Sosial Tradisi Remo Studi…', 'Information Retrieval pengambilan informasi tersimpan didalam dokumen berisikan konteks dokumen Adanya memiliki pengaruh…', 'ABSTRAK Rinda Pradina  Program Studi Ilmu Komunikasi Fakultas Ilmu Sosial Ilmu Budaya Universitas Trunojoyo Madura Supportiveness Single…', 'Investasi saham memiliki resiko kerugian pergerakan harga saham menentu meminimalkan resiko…', 'Lingkungan pantai wilayah mengalami perubahan bertemunya faktor berasal daratan dari…', 'Penelitian bertujuan menghasilkan perangkat pembelajaran kooperatif tipe mata pelajaran dasar desain grafis berbantuan medium kahoot kelas…', 'Desa Saobi Pulau Sapapan Saobi Bungin Nyarat kawasan memiliki ekosistem terumbu karang keberadaan ekosistem memiliki potensi…', 'Kegiatan pembelajaran medium pembelajaran sederhana medium dimensi gambar poster media…', 'Penelitian bertujuan Manajemen Konflik Perempuan Madura Yang Memutuskan Untuk Kuliah Studi Kasus Perempuan Madura Yang Hidup Dalam…', 'Permasalahan ditemui produksi jagung dilahan pertanian Kecamatan Socah tergolong rendah dibandingkan penghasil jagung…', 'Siti Komariyah  Perbedaan kebahagiaan pasangan pernikahan Skripsi Program Studi Psikologi Fakultas Ilmu Sosial Ilmu…', 'Abstrak Dalam menyediakan hijauan pakan ternak potensi hijauan kebutuhan pakan optimal pakan digunakan…', 'Skripsi bertujuan menganalisis Stagnansi hubungan kelembagaan kewenangan komisi pemberantasan korupsi kepolisian Adanya fakta perseteruan antara…', 'ABSTRAK Afiyah Nurisnaini  Program Studi Psikologi Hubungan Strategi Coping Psychological Well Being Narapidana Lansia Lembaga Pemasyarakatan…', 'Penelitian bertujuan menganalisis kemampuan pemecahan siswa menyelesaikan kemampuan pemecahan Jenis penelitian…', 'Halal Value Chain upaya terintegrasi industri input produksi distribusi pemasaran komsumsi Dalam menghasilkan produk halal', 'ABSTRAK makanan dikonsumsi masyarakat dunia Indonesia seringkali menggantikan…', 'Tanaman kolesom Talinum triangulare Jacq Willd memiliki keunggulan bahan baku obat umbi pucuknya sebagai…', 'Penelitian mengambil objek Adiluhung Saranasegara Indonesia menguji pengaruh lingkungan kerja fisik disiplin Kerja…', 'Perairan Soccah lokasi nelayan mencari ikan organisme laut udang rebon Acetes Udang rebon Acetes', 'Abstrak Rian Pandi Pranata  Program Studi Sosiologi Fakultas Ilmu Sosial Ilmu Budaya Universitas Trunojoyo Madura Analisis wacana…', 'Topik deteksi objek menarik perhatian perkembangan teknologi bidang computer vision Deteksi objek memiliki peranan sangat…']\n"
     ]
    }
   ],
   "source": [
    "a=len(dokumen2)\n",
    "dokumenstop=[]\n",
    "for i in range(0, a):\n",
    "    sentence = stopword.remove(dokumen2[i])\n",
    "    dokumenstop.append(sentence)\n",
    "print(dokumenstop)   "
   ]
  },
  {
   "cell_type": "markdown",
   "metadata": {},
   "source": [
    "lalu pada kode diatas digunakan untuk menghilangkan kata hubung. kode diatas menggunakan library sastrawi agar dapat berkerja, sastrawi juga digunakan karena library ini support untuk kata kata bahasa indonesia."
   ]
  },
  {
   "cell_type": "markdown",
   "metadata": {},
   "source": [
    "**MENGHILANGKAN TANDA BACA**"
   ]
  },
  {
   "cell_type": "code",
   "execution_count": 88,
   "metadata": {},
   "outputs": [
    {
     "name": "stdout",
     "output_type": "stream",
     "text": [
      "['abstrac', 'Makanan minuman khas ciri kekayaan sumberdaya alam daerah memaksimalkan pariwisata Pulau Giligenting ditunjang dengan…', 'ABSTRAK Akhirakhir maraknya pencurian kayu milik negara hutan masyarakat perumusan sanksi pidana dalam…', 'Penelitian bertujuan pengaruh motivasi kerja mediator self efficacy lingkungan kerja prestasi kerja…', 'Kedai kopi sampah salah usaha mencerminkan pemberdayaan masyarakat Kedai Kopi Sampah nama Kedai…', 'Abstrak Tenaga kerja orang pekerjaan menghasilkan barang jasa memenuhi kebutuhan sendiri…', 'Tujuan penelitian makna Bhubuhan diartikan bentuk pelunasan hutang pernikahan Madura terjadi…', 'Penelitian dilatar belakangi Bank Wakaf Mikro Sumber Barokah Denanyar Jombang salah BWM…', 'Penelitian bertujuan ratarata hasil kemampuan berpikir kriti siswa materi pemanasan global berbasis pendekatan socioscientific…', 'Identifikasi atribut pejalan kaki salah penelitian dikembangkan peneliti computer vision fungsinya dianggap penting…', 'Abstrak Aprilia Puji Lestari  Program Studi Sosiologi Fakultas Ilmu Sosial Ilmu Budaya Universitas Trunojoyo Madura…', 'Musha rakah Mutana akad pembiayaan muamalah Akad memiliki kriteria khusus kepemilikan asset barang modal bisa…', 'Perairan Soccah lokasi nelayan mencari ikan organisme laut udang rebon Acetes Udang rebon Acetes', 'Abstrak Rian Pandi Pranata  Program Studi Sosiologi Fakultas Ilmu Sosial Ilmu Budaya Universitas Trunojoyo Madura Analisis wacana…', 'Topik deteksi objek menarik perhatian perkembangan teknologi bidang computer vision Deteksi objek memiliki peranan sangat…', 'Sulfi Amalia  English Study Program Analysis Category Shift English Translation Thesis Abstract Law…', 'Tujuan penelitian pengembangan ekonomi lokal wisata Jati Desa Goranggareng Kecamatan Nguntoronadi Kabupaten Magetan Pengembangan…', 'Mayarakat relawan Indonesia Surabaya terbentuk salah wadah relawan sosial kemanuisaan bantuan pamrih bentuk…', 'Siti Komariyah  Perbedaan kebahagiaan pasangan pernikahan Skripsi Program Studi Psikologi Fakultas Ilmu Sosial Ilmu…', 'Abstrak Dalam menyediakan hijauan pakan ternak potensi hijauan kebutuhan pakan optimal pakan digunakan…', 'Skripsi bertujuan menganalisis Stagnansi hubungan kelembagaan kewenangan komisi pemberantasan korupsi kepolisian Adanya fakta perseteruan antara…', 'Penelitian bertujuan self compassion survivor HIVAIDS viral load terdeteksi Sejalan tujuan penelitian maka…', 'ABSTRAK Penelitian bertujuan Untuk bauran promosi periklanan penjualan pribadi promosi penjualan…', 'ABSTRAK Tujuan penelitian peran service performance climate organization parsial simultan untuk…', 'ABSTRAK Tujuan penelitian strategi bertahan hidup buruh tani wanita menghadapi…', 'ABSTRAK Penelitian bertujuan gambaran intimacy ayah single parent anak perempuannya Metode penelitian penelitian…', 'Tujuan penelitian mengambarkan bentuk perlawanan masyarakat Bedug Desa…', 'Information Retrieval pengambilan informasi tersimpan didalam dokumen berisikan konteks dokumen Adanya memiliki pengaruh…', 'ABSTRAK Rinda Pradina  Program Studi Ilmu Komunikasi Fakultas Ilmu Sosial Ilmu Budaya Universitas Trunojoyo Madura Supportiveness Single…', 'Investasi saham memiliki resiko kerugian pergerakan harga saham menentu meminimalkan resiko…', 'Ziarah makam kuburan tradisi leluhur kepulauan Indonesia…', 'Dianis industri rumah tangga memproduksi terasi tradisional hasil nelayan Desa Macajah menambah pendapatan yang…', 'Abstrak Zahriadi Program Studi Sosiologi Fakultas Ilmu Sosial ilmu Budaya Universitas Trunojoyo Madura Pertukaran Sosial Tradisi Remo Studi…', 'Sungai Bancaran sungai Kabupaten Bangkalan merupakanperairan aktivitas manusia perairan sangat…', 'ABSTRAK Pada tahaptahap produksi garam terbentuk lapisan kristal tipi bentuk dimensi yang…', 'Skripsi bejudul Analisis Investasi Syariah tinjau AlMaslahah AsSalam Kecamatan Mojoagung Kabupaten Jombang Penelitian ini…', 'Lingkungan pantai wilayah mengalami perubahan bertemunya faktor berasal daratan dari…', 'Penelitian bertujuan menghasilkan perangkat pembelajaran kooperatif tipe mata pelajaran dasar desain grafis berbantuan medium kahoot kelas…', 'Desa Saobi Pulau Sapapan Saobi Bungin Nyarat kawasan memiliki ekosistem terumbu karang keberadaan ekosistem memiliki potensi…', 'abstrac', 'Makanan minuman khas ciri kekayaan sumberdaya alam daerah memaksimalkan pariwisata Pulau Giligenting ditunjang dengan…', 'ABSTRAK Akhirakhir maraknya pencurian kayu milik negara hutan masyarakat perumusan sanksi pidana dalam…', 'Penelitian bertujuan pengaruh motivasi kerja mediator self efficacy lingkungan kerja prestasi kerja…', 'Penelitian bertujuan pengaruh pemberian dosis pupuk kandang sapi pertumbuhan kandungan serat pangan daun tanaman kolesom…', 'YULI WEDAYANTI  Program Studi Sosiologi Fakultas Ilmu Sosial Ilmu Budaya Universitas Trunojoyo Madura Skripsi Makna…', 'Abstrak Peran guru melestarikan kebudayaan masyarakat guru memiliki perana ditengahtengah masyarakat…', 'Laut Jawa Wilayah Pengelolaan Perikanan perairan potensial habitat kelompok jenis ikan pelagis…', 'Penelitian bertujuan membahas jenis tanda metadiscourse metadiscourse pidato Thunberg Penelitian metode…', 'Siti Maghfuro  Program Studi Sosiologi Fakultas Ilmu Sosial Ilmu Budaya Universitas Trunojoyo Madura Memaknai Gaya Hidup Penikmat Kopi…', 'MSDs Musculoskeletal Disorders gangguan cidera jaringan lunak tubuh otot tendon ligament Cidera terjadi…', 'ABSTRAK Tanaman Kolesom Talinum triangulare Jacq Willd jenis tanaman hortikultura hasil panen umbi pucuk berkhasiat…', 'Pulau Gili Ketapang salah daerah pusat perikanan tangkap Kabupaten Probolinggo Daerah memiliki luas wilayah', 'Biochar padatan kaya kandungan karbon hasil konversi biomassa prose pirolisis Pencampuran biochar pupuk kandang…', 'Tujuan Penelitian respon orang siswa kelas rendah pembelajaran daring permasalahan dihadapi…', 'Gerakan literasi mengalami permasalahan ketersediaan pengelolaan sumberdaya Berkaitan skripsi bertujuan untuk…', 'Penelitian judul Public Awareness Masyarakat Madura Konsep Halal Tourism Pariwisata Berkearifan Lokal bertujuan mengetahui…', 'Indonesia potensi pengembangan Industri pariwisata dinilai menjanjikan Banyaknya keberagaman destinasi contohnya wisata alam wisata buatan maupun…', 'ABSTRAK Analisis Peran Pesantren Dalam Pengembangan Insna Entrepreneur Studi Kasus Pondok Pesantren Darul Hikmah Burneh Bangkalan Kewirausahaan memiliki…', 'Abstrak Farida Yulistiana  Program Studi Sosiologi Pertukaran sosial tradisi sape toktok Tujuan penelitian adalah…', 'Rumah sakit salah instansi bidang pelayanan jasa kesehatan beroprasi penuh hari…', 'Tujuan penelitian Beban Operasional Pendapatan Operasional BOPO Loan Deposit Ratio Return', 'Literasi zakat pengetahuan keterampilan keyakinan mempengaruhi sikap perilaku meningkatkan kualitas pengambilan keputusan…', 'Penelitian berlokasikan Semen Indonesia Pabrik Tuban unit kerja packer Tuban Terdapat jenis kerusakan mesin yang…', 'Nilai perusahaan terpenting investor calon investor menanamkan dananya perusahaan Semakin berkembangnya…', 'Febrianti  Program Studi Sosiologi Fakultas Ilmu Sosial Ilmu Budaya Universitas Trunojoyo Madura Jaringan Sosial Pengusaha Kerajinan Limbah…', 'Penelitian bertujuan hubungan prokrastinasi akademik burnout perilaku plagiarisme mahasiswa psikologi Subjek penelitian adalah…', 'ABSTRAK Tujuan penelitian pengaruh faktor kualitas produk harga keputusan pembelian parsial…', 'Klasifikasi citra prose pengelompokan piksel citra kelas memiliki batasan Setiap kelas memiliki label…', 'ABSTRAK Penelitian bertujuan perhitungan tingkat hunian kamar Hotel Panglima Sampang analisis cost volume profit…', 'Abstrak Tujuan penelitian fenomena dialami Kelompok Dukungan Sebaya pasien ODHA Orang HIVAIDS', 'ABSTRAK Uswatun Hasanah  Pengaruh Pelatihan Kompensasi Terhadap Produktivitas Kerja Dengan Kepuasan Kerja Sebagai Variabel intervening Pada PDAM Sumber…', 'Pengadilan agama salah kekuasaan kehakiman Indonesia tugas pokok pengadilan agama menerima memeriksa mengadili serta…', 'ABSTRAK Tujuan utama penelitian fotografi komunikasi pemasaran menarik minat pengunjung wisata Bukit…', 'Kedai kopi sampah salah usaha mencerminkan pemberdayaan masyarakat Kedai Kopi Sampah nama Kedai…', 'Abstrak Tenaga kerja orang pekerjaan menghasilkan barang jasa memenuhi kebutuhan sendiri…', 'Tujuan penelitian makna Bhubuhan diartikan bentuk pelunasan hutang pernikahan Madura terjadi…', 'Penelitian dilatar belakangi Bank Wakaf Mikro Sumber Barokah Denanyar Jombang salah BWM…', 'Identifikasi atribut pejalan kaki salah penelitian dikembangkan peneliti computer vision fungsinya dianggap penting…', 'Penelitian bertujuan ratarata hasil kemampuan berpikir kriti siswa materi pemanasan global berbasis pendekatan socioscientific…', 'Abstrak Aprilia Puji Lestari  Program Studi Sosiologi Fakultas Ilmu Sosial Ilmu Budaya Universitas Trunojoyo Madura…', 'Musha rakah Mutana akad pembiayaan muamalah Akad memiliki kriteria khusus kepemilikan asset barang modal bisa…', 'Sulfi Amalia  English Study Program Analysis Category Shift English Translation Thesis Abstract Law…', 'Tujuan penelitian pengembangan ekonomi lokal wisata Jati Desa Goranggareng Kecamatan Nguntoronadi Kabupaten Magetan Pengembangan…', 'Mayarakat relawan Indonesia Surabaya terbentuk salah wadah relawan sosial kemanuisaan bantuan pamrih bentuk…', 'ABSTRAK Tujuan penelitian strategi bertahan hidup buruh tani wanita menghadapi…', 'ABSTRAK Penelitian bertujuan gambaran intimacy ayah single parent anak perempuannya Metode penelitian penelitian…', 'Tujuan penelitian mengambarkan bentuk perlawanan masyarakat Bedug Desa…', 'Penelitian bertujuan self compassion survivor HIVAIDS viral load terdeteksi Sejalan tujuan penelitian maka…', 'ABSTRAK Penelitian bertujuan Untuk bauran promosi periklanan penjualan pribadi promosi penjualan…', 'ABSTRAK Tujuan penelitian peran service performance climate organization parsial simultan untuk…', 'Penelitian dilatarbelakangi kesulitan siswa menuangkan karya tulis puisi kurangnya pemanfaatan medium dalam…', 'ABSTRAK Abstrak Penelitian mengkaji bentuk kalimat analitis kontradiktif sintesis rubrik citizen reporter surat kabar Harian…', 'ABSTRAK Produksi garam krosok Salt House kualitas rendah segi fisik bersih…', 'Penelitian bertujuan meneliti penggambaran representasi promosi video pariwisata Lombok akun YouTube resmi pariwisata Indonesia Analasis…', 'ANALISIS BAHASA FIGURATIF YANG DIGUNAKAN DALAM LYRIK TERPILIH DARI LAGU KATY PERRY RAyu Suci Istighfar Aini Program Studi Bahasa Inggris', 'Abstrak Tujuan penelitian Hambatan Komunikasi Antar Budaya Mahasiswa Papua Madura deskriptif Mahasiswa Papua…', 'ABSTRAK FaktorFaktor Mempengaruhi Minat Nasabah Membuka Rekening Tabungan Mantab Sidogiri Cabang Blega Pada zaman modern…', 'ABSTRAK Tanah Madura didominasi kompleks tanah mediteran merah berbahan induk batu kapur batu pasir Sehingga perhatian…', 'ABSTRAK Sari Meliya Intan  Pengembangan Karakter Plot Cerpen Alice Munro Bear Came over Mountain Tesis…', 'Hotel syariah hotel menjalankan kegiatan bisnis operasionalnya berdasarkan prinsip syariah Salah hotel syariah ialah…', 'Penelitian bertujuan pengaruh Operating Margin Kualitas Aktiva Produktif Financing Deposit Ratio…', 'ABSTRAK ANALISIS STRATEGI FUNDRAISING LEMBAGA AMIL ZAKAT DALAM MENDAPATKAN MUZAKKI MUNFAQIN Studi Kasus Lazismu Pamekasan Lazismu pamekasan salah…', 'Penelitian judul Analisis Penerapan Sistem Penjaminan Halal Produk Makanan Minuman Berbahan Dasar Cokelat Pada Kampung Coklat Blitar…', 'ABSTRAK Kebahagiaan wisatawan domestik diraih salah satunya petualangan tantangan mendaki gunung…', 'Pengendalian kualitas upaya mempertahankan meningkatkan kualitas produk sesuai sesuai dengan…', 'Peminjaman dana sistem online masyarakat dianggap praktis rumit Setelah persyaratan dipenuhi masyarakat', 'Ambar Kusuma  Pengaruh Gratitude Tehadap Kepuasan Hidup Pada Komunitas HIVAIDS Friendship Plus Sebaya Kediri Skripsi Program Studi Psikologi', 'ABSTRAK Minimarket pasar modern pasar swalayan memiliki kasir Dengan perubahan…', 'Handayanie  Pengaruh Motivasi Belanja Hedonis Emosi Positif Terhadap Impulsive Buying Remaja Akhir Skripsi Program Studi…', 'ABSTRAK Handayanie  Pengaruh Motivasi Belanja Hedonis Emosi Positif Terhadap Impulsive Buying Skripsi Program Studi Psikologi Fakultas…', 'Penelitian latar belakangi perangkat pembelajaran sekolah format KTSP kurikulum  sesuai…', 'Garam salah komoditas perekonomian kawasan pesisir Proses produksi garam metode tradisional faktor…', 'Kebutuhan garam Indonesia seiring bertambahnya penduduk dimanfaatkan garam konsumsi industri meningkat Produksi garam indonesia…', 'Penelitian lapangan bertujuan bentuk pelindungan konsumen pencantuman label halal sertifikasi LPPOM', 'Tujuan penelitian kemampuan jenis kesalahan siswa menyelesaikan HOTS Penelitian penilitian…', 'ABSTRAK Kabupaten Sampang salah kabupaten terletak Pulau MaduraKabupaten Sampang memiliki potensi sumberdaya alam menunjang…', 'Pola tanam teknik petani menentukan jenis tanam usaha taninya Pamekasan umumnya…', 'ABSTRAK Kewirausahaan kemampuan menciptakan berpikir kreatif bertindak inovatif menciptakan peluang Konsep dan…', 'Penelitian dilatar belakangi dunia keuangan islam penerapan akad syariah dunia technologi finansial Kandangin…', 'Fortifikasi metode penambahan mikronutrien bahan makanan tujuan utama meningkatkan gizi suatu…', 'Produk ramah lingkungan mengurangi pencemaran lingkungan konsumsi jangka Tujuan penelitian adalah…', 'Penelitian bertujuan mendeskripsikan faktor mempengaruhi kemampuan berpikir kriti metakognisi siswa materi pemanasan global Penelitian ini…', 'Zakat salah Hukum Islam mengalami perkembangan sesuai zamannya zakat bentuk ibadah yang…', 'Tsunami gelombang pasang dibangkitkan gempa tektonik letusan gunung lautan tanah longsor Bencana yang…', 'Abstrak Penelitian bertujuan pengaruh adversity quotient intensi berwirausaha masyarakat pesisir Desa Ambunten Timur Kecamatan…', 'Penelitian bertujuan pengunaan medium modul bahan pewarna batik banyuates madura siswa kelas VIII…', 'ABSTRAK MODEL PEMBERDAYAAN SANTRIPRENEUR DALAM MENINGKATKAN PEREKONOMIAN PESANTREN Studi Kasus AlAmien Prenduan Sumenep Madura Pulau Madura dikenal dengan…', 'ABSTRAK Abstrak Peribahasa kalimat penggalan kalimat bersifat turuntemurun makna khusus pemakaian bahasa…', 'Penelitian bertujuan mengidentifikasi persentase prose kemampuan berpikir kriti siswa kelas Penelitian jenis penelitian campuran…', 'Tambak garam lahan penentu pengaruh faktor produksi garam Habitat mikroalga hidup ditempat yang…', 'Tujuan penelitian strategi retorika penutur amal masjid jalanan Kecamatan Tanah Merah Kecamatan…', 'Sepak bola salah olahraga digemari remaja belahan dunia abad…', 'Pesisir Pantai Kenjeran kawasan potensi wisata ekonomi ekologis banyaknya aktivitas nelayan Kegiatan menyebabkan…', 'ABSTRACT Nafilatun Nasuha  Analysis Personal Pronouns Donald Trump Speech Critical Discourse Analysis ThesisEnglish Study Program', 'Mikroplastik sampah plastik mengalami degradasi terurai partikelpartikel plastik Keberadaan mikroplastik', 'Penelitian bertujuan kelayakan keterbacaan respons siswa Lembaran kerja siswa Menggunakan model pengembangan meliputi Define', 'Perbedaan harga diterapkan pemilik jasa transportasi objek wisata kerap kebiasaan masyarakat Sesuatu kebiasaan…', 'ABSTRAK Remoh blater diadakan berkumpulnya blater desa Kabupaten Bangkalan keuntungan dari…', 'Penduduk Indonesia mayoritas beragama Islam mewajibkan umat muslim mengkonsumsi produk bersertifikasi halal Sebuah produk bersertifikasi halal MUI…', 'Perguruan Tinggi salah jenjang pendidikan Sekolah Menengah Atas menyeleksi penerimaan mahasiswa berdasarkan jalur prestasi', 'ABSTRAK Tsunami bencana ancaman masyarakat wilayah pesisirTsunami kerusakan daratan…', 'Apie Indo Karunia perusahaan bidang industri manufaktur memproduksi produk berbahan dasar logam Produk diproduksi…', 'Penelitian bertujuan persentase miskonsepsi siswa faktorfaktor penyebab miskonsepsi siswa Penelitian ini…', 'ABSTRAK Pengaruh Integrated Marketing Communication Kualitas Layanan Terhadap Kepuasan Peziarah Pada Makam Religi Bangkalan Studi Kasus Makam Syaikhona…', 'Financial Distress ketidakmampuan perusahaan memenuhi kewajibannya Analisis bahan evaluasi perusahaan memperbaiki kinerja perusahaan…', 'Rajungan Portunus pelagicus komoditas nilai ekonomi permintaan pasar luar…', 'ABSTRAK Rendra Fresty Pratiwi  Program Studi Psikologi Perbedaan Strategi Coping Ditinjau Tipe Kepribadian Ekstrovert Introvert Pada Anak…', 'Meningkatnya kandungan karbon dioksida udara menyebabkan kenaikan suhu bumi efek rumah kacapemanasan global Penelitian bertujuan…', 'Sentra Industri Songkok sekumpulan unit usaha menghasilkan produk sejenis menyerap tenaga kerja local …', 'ABSTRAK LITERASI HALAL SERTIKASI HALAL PADA PELAKU KRIPIK SINGKONG MANDING Halal Lifestyle Indonesia ini…', 'Penelitian berjudul Bias Gender Jurnalis Perempuan Media Massa Kota Bangkalan meneliti motivasi memilih profesi jurnalis diskriminasi', 'Skripsi berjudul tinjauan sosiologi hukum Islam praktik jual beli bahan pokok makanan tempo studi kasus…', 'ABSTRAK ANALISIS MANAJEMEN RISIKO PEMBIAYAAN DANA TALANGAN UMROH PADA TABUNG HAJI UMROH YULIANTO FOUNDATION SURABAYA Tabung Haji Umroh…', 'ABSTRAK Nurul Habibah Program Studi Sosiologi Fakultas Ilmu Sosial Budaya Universitas Trunojoyo Madura Pertukaran Sosial Tradisi Timang Manten…', 'ABSTRAK Vikki Hidayat  Pengaruh Kualitas Kehidupan Kerja Kepuasan Kerja Petani Garam Kecamatan Kalianget Sumenep Skripsi Program…', 'Abstrak Penelitian bertujuan motivasi berprestasi petambak garam Penelitian metode penelitian deskriptif kualitatif pendekatan fenomenologi…', 'Abstrak Tujuan penelitian gambaran pendampingan orang prose belajar anak persepsi anak…', 'ABSTRAK Ririn Octaviani  Pengaruh Regulasi Diri Prokrastinasi Akademik Mahasiswa Bidikmisi Melampaui Batas Masa Studi Normal', 'Sungai Bancaran sungai Kabupaten Bangkalan merupakanperairan aktivitas manusia perairan sangat…', 'ABSTRAK Pada tahaptahap produksi garam terbentuk lapisan kristal tipi bentuk dimensi yang…', 'Skripsi bejudul Analisis Investasi Syariah tinjau AlMaslahah AsSalam Kecamatan Mojoagung Kabupaten Jombang Penelitian ini…', 'Ziarah makam kuburan tradisi leluhur kepulauan Indonesia…', 'Dianis industri rumah tangga memproduksi terasi tradisional hasil nelayan Desa Macajah menambah pendapatan yang…', 'Abstrak Zahriadi Program Studi Sosiologi Fakultas Ilmu Sosial ilmu Budaya Universitas Trunojoyo Madura Pertukaran Sosial Tradisi Remo Studi…', 'Information Retrieval pengambilan informasi tersimpan didalam dokumen berisikan konteks dokumen Adanya memiliki pengaruh…', 'ABSTRAK Rinda Pradina  Program Studi Ilmu Komunikasi Fakultas Ilmu Sosial Ilmu Budaya Universitas Trunojoyo Madura Supportiveness Single…', 'Investasi saham memiliki resiko kerugian pergerakan harga saham menentu meminimalkan resiko…', 'Lingkungan pantai wilayah mengalami perubahan bertemunya faktor berasal daratan dari…', 'Penelitian bertujuan menghasilkan perangkat pembelajaran kooperatif tipe mata pelajaran dasar desain grafis berbantuan medium kahoot kelas…', 'Desa Saobi Pulau Sapapan Saobi Bungin Nyarat kawasan memiliki ekosistem terumbu karang keberadaan ekosistem memiliki potensi…', 'Kegiatan pembelajaran medium pembelajaran sederhana medium dimensi gambar poster media…', 'Penelitian bertujuan Manajemen Konflik Perempuan Madura Yang Memutuskan Untuk Kuliah Studi Kasus Perempuan Madura Yang Hidup Dalam…', 'Permasalahan ditemui produksi jagung dilahan pertanian Kecamatan Socah tergolong rendah dibandingkan penghasil jagung…', 'Siti Komariyah  Perbedaan kebahagiaan pasangan pernikahan Skripsi Program Studi Psikologi Fakultas Ilmu Sosial Ilmu…', 'Abstrak Dalam menyediakan hijauan pakan ternak potensi hijauan kebutuhan pakan optimal pakan digunakan…', 'Skripsi bertujuan menganalisis Stagnansi hubungan kelembagaan kewenangan komisi pemberantasan korupsi kepolisian Adanya fakta perseteruan antara…', 'ABSTRAK Afiyah Nurisnaini  Program Studi Psikologi Hubungan Strategi Coping Psychological Well Being Narapidana Lansia Lembaga Pemasyarakatan…', 'Penelitian bertujuan menganalisis kemampuan pemecahan siswa menyelesaikan kemampuan pemecahan Jenis penelitian…', 'Halal Value Chain upaya terintegrasi industri input produksi distribusi pemasaran komsumsi Dalam menghasilkan produk halal', 'ABSTRAK makanan dikonsumsi masyarakat dunia Indonesia seringkali menggantikan…', 'Tanaman kolesom Talinum triangulare Jacq Willd memiliki keunggulan bahan baku obat umbi pucuknya sebagai…', 'Penelitian mengambil objek Adiluhung Saranasegara Indonesia menguji pengaruh lingkungan kerja fisik disiplin Kerja…', 'Perairan Soccah lokasi nelayan mencari ikan organisme laut udang rebon Acetes Udang rebon Acetes', 'Abstrak Rian Pandi Pranata  Program Studi Sosiologi Fakultas Ilmu Sosial Ilmu Budaya Universitas Trunojoyo Madura Analisis wacana…', 'Topik deteksi objek menarik perhatian perkembangan teknologi bidang computer vision Deteksi objek memiliki peranan sangat…']\n"
     ]
    }
   ],
   "source": [
    "from Sastrawi.StopWordRemover.StopWordRemoverFactory import StopWordRemoverFactory\n",
    "from nltk.tokenize import word_tokenize\n",
    "import string\n",
    "factory = StopWordRemoverFactory()\n",
    "dokumenst=[]\n",
    "for i in dokumenstop:\n",
    "    output = i.translate(str.maketrans(\"\",\"\",string.punctuation))\n",
    "    dokumenst.append(output)\n",
    "    \n",
    "print(dokumenst)"
   ]
  },
  {
   "cell_type": "markdown",
   "metadata": {},
   "source": [
    "**MELAKUKAN EKSTRASI FITUR Dan MEMBUAT DOKUMEN TERM MATRIK**"
   ]
  },
  {
   "cell_type": "markdown",
   "metadata": {},
   "source": [
    "dokumen term matrix atau disingkan DTM adalah representasi dari dokumen dalam corpus. DTM akan mempresentasikan dokumen dalam struktur numerik. melalui DTM kita dapat melakukan analisis yang lebih menarik."
   ]
  },
  {
   "cell_type": "code",
   "execution_count": 89,
   "metadata": {},
   "outputs": [
    {
     "name": "stdout",
     "output_type": "stream",
     "text": [
      "(185, 976)\n",
      "  (0, 1)\t1.0\n",
      "  (1, 187)\t0.2948600111598948\n",
      "  (1, 235)\t0.2948600111598948\n",
      "  (1, 769)\t0.23845280534673072\n",
      "  (1, 611)\t0.2549973178800974\n",
      "  (1, 486)\t0.2948600111598948\n",
      "  (1, 135)\t0.2783154986265281\n",
      "  (1, 16)\t0.26548257772188366\n",
      "  (1, 865)\t0.26548257772188366\n",
      "  (1, 344)\t0.2948600111598948\n",
      "  (1, 122)\t0.2948600111598948\n",
      "  (1, 380)\t0.2948600111598948\n",
      "  (1, 551)\t0.2783154986265281\n",
      "  (1, 459)\t0.2461321570006111\n",
      "  (2, 724)\t0.30632635302825295\n",
      "  (2, 811)\t0.30632635302825295\n",
      "  (2, 714)\t0.30632635302825295\n",
      "  (2, 472)\t0.21429074873237533\n",
      "  (2, 266)\t0.30632635302825295\n",
      "  (2, 575)\t0.30632635302825295\n",
      "  (2, 548)\t0.30632635302825295\n",
      "  (2, 331)\t0.30632635302825295\n",
      "  (2, 649)\t0.30632635302825295\n",
      "  (2, 467)\t0.30632635302825295\n",
      "  (2, 12)\t0.30632635302825295\n",
      "  :\t:\n",
      "  (183, 604)\t0.30847174354610646\n",
      "  (183, 798)\t0.30847174354610646\n",
      "  (183, 930)\t0.22025023065650087\n",
      "  (183, 944)\t0.22025023065650087\n",
      "  (183, 105)\t0.21579155770897604\n",
      "  (183, 853)\t0.20067133770923787\n",
      "  (183, 271)\t0.4232812650034558\n",
      "  (183, 207)\t0.20775770128789767\n",
      "  (183, 854)\t0.22025023065650087\n",
      "  (183, 858)\t0.1719774145528795\n",
      "  (183, 756)\t0.1785473410374854\n",
      "  (183, 453)\t0.1913969311101384\n",
      "  (183, 3)\t0.12626206826194655\n",
      "  (184, 684)\t0.2518115225201543\n",
      "  (184, 94)\t0.22672308746020797\n",
      "  (184, 893)\t0.2518115225201543\n",
      "  (184, 699)\t0.23768244861151339\n",
      "  (184, 693)\t0.23768244861151339\n",
      "  (184, 501)\t0.23768244861151339\n",
      "  (184, 584)\t0.45344617492041595\n",
      "  (184, 151)\t0.5036230450403086\n",
      "  (184, 922)\t0.2518115225201543\n",
      "  (184, 492)\t0.1638119410673557\n",
      "  (184, 955)\t0.22672308746020797\n",
      "  (184, 130)\t0.22672308746020797\n"
     ]
    },
    {
     "name": "stderr",
     "output_type": "stream",
     "text": [
      "/home/said/.local/lib/python3.9/site-packages/sklearn/feature_extraction/text.py:396: UserWarning: Your stop_words may be inconsistent with your preprocessing. Tokenizing the stop words generated tokens ['baiknya', 'berkali', 'kali', 'kurangnya', 'mata', 'olah', 'sekurang', 'setidak', 'tama', 'tidaknya'] not in stop_words.\n",
      "  warnings.warn(\n"
     ]
    }
   ],
   "source": [
    "vect =TfidfVectorizer(stop_words=stop_words,max_features=1000) # to play with. min_df,max_df,max_features etc...\n",
    "vect_text=vect.fit_transform(dokumenst)\n",
    "print(vect_text.shape)\n",
    "print(vect_text)"
   ]
  },
  {
   "cell_type": "markdown",
   "metadata": {},
   "source": [
    "skor diatas merupakan skor idf. Semakin kecil nilainya maka semakin sering muncul kata tersebut dalam dokumen tersebut"
   ]
  },
  {
   "cell_type": "markdown",
   "metadata": {},
   "source": [
    "## Klustering menggunakan K-Means"
   ]
  },
  {
   "cell_type": "code",
   "execution_count": 90,
   "metadata": {},
   "outputs": [
    {
     "data": {
      "text/plain": [
       "KMeans(n_clusters=4)"
      ]
     },
     "execution_count": 90,
     "metadata": {},
     "output_type": "execute_result"
    }
   ],
   "source": [
    "from sklearn.feature_extraction.text import TfidfVectorizer\n",
    "from sklearn.cluster import KMeans\n",
    "import numpy as np\n",
    "from scipy.sparse.csr import csr_matrix\n",
    "\n",
    "kmeans = KMeans(n_clusters=4)\n",
    "kmeans.fit(vect_text)\n"
   ]
  },
  {
   "cell_type": "markdown",
   "metadata": {},
   "source": [
    "Kami menjadikan data menjadi 4 Kluster"
   ]
  },
  {
   "cell_type": "code",
   "execution_count": 91,
   "metadata": {},
   "outputs": [
    {
     "data": {
      "text/plain": [
       "{0: 14, 1: 10, 2: 110, 3: 51}"
      ]
     },
     "execution_count": 91,
     "metadata": {},
     "output_type": "execute_result"
    }
   ],
   "source": [
    "import numpy as np\n",
    "unique, counts = np.unique(kmeans.labels_, return_counts=True)\n",
    "dict_data = dict(zip(unique, counts))\n",
    "dict_data"
   ]
  },
  {
   "cell_type": "code",
   "execution_count": 92,
   "metadata": {},
   "outputs": [
    {
     "data": {
      "text/plain": [
       "168.5386588310672"
      ]
     },
     "execution_count": 92,
     "metadata": {},
     "output_type": "execute_result"
    }
   ],
   "source": [
    "data[\"cluster\"] = kmeans.labels_\n",
    "centers = kmeans.cluster_centers_\n",
    "\n",
    "kmeans.inertia_"
   ]
  },
  {
   "cell_type": "markdown",
   "metadata": {},
   "source": [
    "Kemudian menampilkan yang telah terkluster"
   ]
  },
  {
   "cell_type": "code",
   "execution_count": 93,
   "metadata": {},
   "outputs": [
    {
     "data": {
      "text/html": [
       "<div>\n",
       "<style scoped>\n",
       "    .dataframe tbody tr th:only-of-type {\n",
       "        vertical-align: middle;\n",
       "    }\n",
       "\n",
       "    .dataframe tbody tr th {\n",
       "        vertical-align: top;\n",
       "    }\n",
       "\n",
       "    .dataframe thead th {\n",
       "        text-align: right;\n",
       "    }\n",
       "</style>\n",
       "<table border=\"1\" class=\"dataframe\">\n",
       "  <thead>\n",
       "    <tr style=\"text-align: right;\">\n",
       "      <th></th>\n",
       "      <th></th>\n",
       "      <th>page</th>\n",
       "      <th>title</th>\n",
       "      <th>author</th>\n",
       "      <th>abstrac</th>\n",
       "      <th>cluster</th>\n",
       "    </tr>\n",
       "  </thead>\n",
       "  <tbody>\n",
       "    <tr>\n",
       "      <th>0</th>\n",
       "      <td>NaN</td>\n",
       "      <td>page</td>\n",
       "      <td>title</td>\n",
       "      <td>author</td>\n",
       "      <td>abstrac</td>\n",
       "      <td>2</td>\n",
       "    </tr>\n",
       "    <tr>\n",
       "      <th>1</th>\n",
       "      <td>0.0</td>\n",
       "      <td>https://pta.trunojoyo.ac.id/</td>\n",
       "      <td>STRATEGI PENGEMBANGAN MAKANAN DAN MINUMAN KHAS...</td>\n",
       "      <td>Penulis : Mohammad Maskur</td>\n",
       "      <td>Makanan dan minuman khas merupakan ciri dari k...</td>\n",
       "      <td>2</td>\n",
       "    </tr>\n",
       "    <tr>\n",
       "      <th>2</th>\n",
       "      <td>1.0</td>\n",
       "      <td>https://pta.trunojoyo.ac.id/</td>\n",
       "      <td>PERUMUSAN SANKSI PIDANA BAGI MASYARAKAT SEKITA...</td>\n",
       "      <td>Penulis : Moch. Steven</td>\n",
       "      <td>ABSTRAK\\nAkhir-akhir ini semakin maraknya penc...</td>\n",
       "      <td>2</td>\n",
       "    </tr>\n",
       "    <tr>\n",
       "      <th>3</th>\n",
       "      <td>2.0</td>\n",
       "      <td>https://pta.trunojoyo.ac.id/</td>\n",
       "      <td>Peran Teor Motivasi Herzberg Sebagai Mediator ...</td>\n",
       "      <td>Penulis : Widha Deby Andrea</td>\n",
       "      <td>Penelitian ini bertujuan untuk dapat mengetahu...</td>\n",
       "      <td>3</td>\n",
       "    </tr>\n",
       "    <tr>\n",
       "      <th>4</th>\n",
       "      <td>3.0</td>\n",
       "      <td>https://pta.trunojoyo.ac.id/welcome/index/9</td>\n",
       "      <td>Model pemberdayaan ekonomi masyarakat melalui ...</td>\n",
       "      <td>Penulis : Rofiatul Zuhria</td>\n",
       "      <td>Kedai kopi sampah merupakan salah satu usaha y...</td>\n",
       "      <td>2</td>\n",
       "    </tr>\n",
       "    <tr>\n",
       "      <th>...</th>\n",
       "      <td>...</td>\n",
       "      <td>...</td>\n",
       "      <td>...</td>\n",
       "      <td>...</td>\n",
       "      <td>...</td>\n",
       "      <td>...</td>\n",
       "    </tr>\n",
       "    <tr>\n",
       "      <th>180</th>\n",
       "      <td>179.0</td>\n",
       "      <td>https://pta.trunojoyo.ac.id/welcome/index/21</td>\n",
       "      <td>Respon Tanaman Kolesom (Talinum triangulare (J...</td>\n",
       "      <td>Penulis : Yeni Novitasari</td>\n",
       "      <td>Tanaman kolesom (Talinum. triangulare (Jacq) W...</td>\n",
       "      <td>2</td>\n",
       "    </tr>\n",
       "    <tr>\n",
       "      <th>181</th>\n",
       "      <td>180.0</td>\n",
       "      <td>https://pta.trunojoyo.ac.id/welcome/index/21</td>\n",
       "      <td>PENGARUH LINGKUNGAN KERJA FISIK DAN DISIPLIN K...</td>\n",
       "      <td>Penulis : Shofya</td>\n",
       "      <td>Penelitian ini mengambil objek di PT. Adiluhun...</td>\n",
       "      <td>3</td>\n",
       "    </tr>\n",
       "    <tr>\n",
       "      <th>182</th>\n",
       "      <td>181.0</td>\n",
       "      <td>https://pta.trunojoyo.ac.id/welcome/index/2</td>\n",
       "      <td>ANALISIS KANDUNGAN TIMBAL (Pb) UDANG REBON (Ac...</td>\n",
       "      <td>Penulis : Roihatul Jannah dan Haryo Triajie</td>\n",
       "      <td>Perairan Soccah merupakan lokasi nelayan menca...</td>\n",
       "      <td>2</td>\n",
       "    </tr>\n",
       "    <tr>\n",
       "      <th>183</th>\n",
       "      <td>182.0</td>\n",
       "      <td>https://pta.trunojoyo.ac.id/welcome/index/2</td>\n",
       "      <td>Analisis Wacana Media Online Detik.com dalam M...</td>\n",
       "      <td>Penulis : RIAN PANDI PRANATA</td>\n",
       "      <td>Abstrak\\n\\n Rian Pandi Pranata. NIM 1605211000...</td>\n",
       "      <td>0</td>\n",
       "    </tr>\n",
       "    <tr>\n",
       "      <th>184</th>\n",
       "      <td>183.0</td>\n",
       "      <td>https://pta.trunojoyo.ac.id/welcome/index/2</td>\n",
       "      <td>DETEKSI OBJEK MANUSIA BERBASIS ONE STAGE DETEC...</td>\n",
       "      <td>Penulis : Dian Wibowo</td>\n",
       "      <td>Topik deteksi objek telah menarik perhatian ya...</td>\n",
       "      <td>2</td>\n",
       "    </tr>\n",
       "  </tbody>\n",
       "</table>\n",
       "<p>185 rows × 6 columns</p>\n",
       "</div>"
      ],
      "text/plain": [
       "                                                    page  \\\n",
       "0      NaN                                          page   \n",
       "1      0.0                  https://pta.trunojoyo.ac.id/   \n",
       "2      1.0                  https://pta.trunojoyo.ac.id/   \n",
       "3      2.0                  https://pta.trunojoyo.ac.id/   \n",
       "4      3.0   https://pta.trunojoyo.ac.id/welcome/index/9   \n",
       "..     ...                                           ...   \n",
       "180  179.0  https://pta.trunojoyo.ac.id/welcome/index/21   \n",
       "181  180.0  https://pta.trunojoyo.ac.id/welcome/index/21   \n",
       "182  181.0   https://pta.trunojoyo.ac.id/welcome/index/2   \n",
       "183  182.0   https://pta.trunojoyo.ac.id/welcome/index/2   \n",
       "184  183.0   https://pta.trunojoyo.ac.id/welcome/index/2   \n",
       "\n",
       "                                                 title  \\\n",
       "0                                                title   \n",
       "1    STRATEGI PENGEMBANGAN MAKANAN DAN MINUMAN KHAS...   \n",
       "2    PERUMUSAN SANKSI PIDANA BAGI MASYARAKAT SEKITA...   \n",
       "3    Peran Teor Motivasi Herzberg Sebagai Mediator ...   \n",
       "4    Model pemberdayaan ekonomi masyarakat melalui ...   \n",
       "..                                                 ...   \n",
       "180  Respon Tanaman Kolesom (Talinum triangulare (J...   \n",
       "181  PENGARUH LINGKUNGAN KERJA FISIK DAN DISIPLIN K...   \n",
       "182  ANALISIS KANDUNGAN TIMBAL (Pb) UDANG REBON (Ac...   \n",
       "183  Analisis Wacana Media Online Detik.com dalam M...   \n",
       "184  DETEKSI OBJEK MANUSIA BERBASIS ONE STAGE DETEC...   \n",
       "\n",
       "                                          author  \\\n",
       "0                                         author   \n",
       "1                      Penulis : Mohammad Maskur   \n",
       "2                         Penulis : Moch. Steven   \n",
       "3                    Penulis : Widha Deby Andrea   \n",
       "4                      Penulis : Rofiatul Zuhria   \n",
       "..                                           ...   \n",
       "180                    Penulis : Yeni Novitasari   \n",
       "181                             Penulis : Shofya   \n",
       "182  Penulis : Roihatul Jannah dan Haryo Triajie   \n",
       "183                 Penulis : RIAN PANDI PRANATA   \n",
       "184                        Penulis : Dian Wibowo   \n",
       "\n",
       "                                               abstrac  cluster  \n",
       "0                                              abstrac        2  \n",
       "1    Makanan dan minuman khas merupakan ciri dari k...        2  \n",
       "2    ABSTRAK\\nAkhir-akhir ini semakin maraknya penc...        2  \n",
       "3    Penelitian ini bertujuan untuk dapat mengetahu...        3  \n",
       "4    Kedai kopi sampah merupakan salah satu usaha y...        2  \n",
       "..                                                 ...      ...  \n",
       "180  Tanaman kolesom (Talinum. triangulare (Jacq) W...        2  \n",
       "181  Penelitian ini mengambil objek di PT. Adiluhun...        3  \n",
       "182  Perairan Soccah merupakan lokasi nelayan menca...        2  \n",
       "183  Abstrak\\n\\n Rian Pandi Pranata. NIM 1605211000...        0  \n",
       "184  Topik deteksi objek telah menarik perhatian ya...        2  \n",
       "\n",
       "[185 rows x 6 columns]"
      ]
     },
     "execution_count": 93,
     "metadata": {},
     "output_type": "execute_result"
    }
   ],
   "source": [
    "data"
   ]
  },
  {
   "cell_type": "markdown",
   "metadata": {},
   "source": [
    "# Latent Semantic Analysis (LSA)"
   ]
  },
  {
   "cell_type": "markdown",
   "metadata": {},
   "source": [
    "## Definisi"
   ]
  },
  {
   "cell_type": "markdown",
   "metadata": {},
   "source": [
    "LSA (Latent Semantic Analysis) adalah metode statistik aljabar yang mengekstrak struktur semantik yang tersembunyi dari kata dan kalimat , untuk mencari interelasi diantara kalimat dan kata, digunakan metode aljabar Singular Value Decomposition (SVD). Disamping mempunyai kapasitas relasi model diantara kata dan kalimat, SVD ini mempunyai kapasitas reduksi noise yang membantu untuk meningkatkan akurasi."
   ]
  },
  {
   "cell_type": "markdown",
   "metadata": {},
   "source": [
    "## Implementasi Dalam Program"
   ]
  },
  {
   "cell_type": "code",
   "execution_count": 94,
   "metadata": {},
   "outputs": [],
   "source": [
    "from sklearn.decomposition import TruncatedSVD\n",
    "lsa_model = TruncatedSVD(n_components=10, algorithm='randomized', n_iter=10, random_state=42)\n",
    "\n",
    "lsa_top=lsa_model.fit_transform(vect_text)"
   ]
  },
  {
   "cell_type": "markdown",
   "metadata": {},
   "source": [
    "Kami menggunakan library sklearn untuk melakukan topic modeling  dan mencari 10 topic terbaik"
   ]
  },
  {
   "cell_type": "code",
   "execution_count": 95,
   "metadata": {},
   "outputs": [
    {
     "name": "stdout",
     "output_type": "stream",
     "text": [
      "Document 0 :\n",
      "Topic  0  :  -2.293486471704641e-05\n",
      "Topic  1  :  -0.003931958428533484\n",
      "Topic  2  :  -0.5867042182455613\n",
      "Topic  3  :  -0.2161587533973163\n",
      "Topic  4  :  -2.5083431169423873\n",
      "Topic  5  :  -0.5274019854776059\n",
      "Topic  6  :  2.2291817961360127\n",
      "Topic  7  :  2.7934332172925505\n",
      "Topic  8  :  -4.211927103164996\n",
      "Topic  9  :  13.160786499890358\n"
     ]
    }
   ],
   "source": [
    "l=lsa_top[0]\n",
    "print(\"Document 0 :\")\n",
    "for i,topic in enumerate(l):\n",
    "  print(\"Topic \",i,\" : \",topic*100)"
   ]
  },
  {
   "cell_type": "code",
   "execution_count": 96,
   "metadata": {},
   "outputs": [
    {
     "name": "stdout",
     "output_type": "stream",
     "text": [
      "(10, 976)\n",
      "[[ 2.10240955e-04 -2.29348647e-07  4.14865627e-03 ...  6.75257151e-04\n",
      "   4.34542292e-04  3.89718843e-03]\n",
      " [ 1.33843095e-03 -3.93195843e-05 -7.31973341e-04 ...  2.34830611e-03\n",
      "   3.40910218e-03  3.24234766e-03]\n",
      " [-4.02233296e-03 -5.86704218e-03 -3.18642555e-03 ... -1.08405391e-03\n",
      "  -8.28037925e-03 -2.68764587e-02]\n",
      " ...\n",
      " [-1.21283826e-02  2.79343322e-02 -1.02754765e-02 ... -1.74318332e-04\n",
      "  -1.13791254e-02 -2.02081628e-02]\n",
      " [-3.68349546e-03 -4.21192710e-02 -2.53772940e-02 ... -1.41109945e-03\n",
      "  -1.12884525e-02  1.22685816e-02]\n",
      " [ 1.10091478e-02  1.31607865e-01  1.64186026e-03 ... -5.14595132e-03\n",
      "   1.23080793e-02  8.73350872e-02]]\n"
     ]
    }
   ],
   "source": [
    "print(lsa_model.components_.shape) # (no_of_topics*no_of_words)\n",
    "print(lsa_model.components_)"
   ]
  },
  {
   "cell_type": "code",
   "execution_count": 97,
   "metadata": {},
   "outputs": [
    {
     "name": "stdout",
     "output_type": "stream",
     "text": [
      "Topic 0: \n",
      "ilmu sosial studi fakultas program trunojoyo universitas budaya madura sosiologi \n",
      "\n",
      "Topic 1: \n",
      "penelitian bertujuan tujuan siswa kerja abstrak kemampuan pengaruh bentuk metode \n",
      "\n",
      "Topic 2: \n",
      "siswa kemampuan penelitian berpikir kriti bertujuan global materi pemanasan berbasis \n",
      "\n",
      "Topic 3: \n",
      "kerja pengaruh bertujuan lingkungan motivasi siswa efficacy mediator prestasi self \n",
      "\n",
      "Topic 4: \n",
      "garam bentuk produksi terbentuk relawan kristal lapisan tahaptahap tipi dimensi \n",
      "\n",
      "Topic 5: \n",
      "garam memiliki kemampuan siswa produksi indonesia berpikir kriti hasil salah \n",
      "\n",
      "Topic 6: \n",
      "skripsi garam kecamatan kabupaten jombang syariah pengaruh almaslahah assalam bejudul \n",
      "\n",
      "Topic 7: \n",
      "desa nelayan kerja hasil pengembangan tujuan acetes rebon udang pendapatan \n",
      "\n",
      "Topic 8: \n",
      "menghasilkan pembelajaran medium kelas kabupaten perangkat dasar berbantuan desain grafis \n",
      "\n",
      "Topic 9: \n",
      "kedai salah masyarakat abstrac indonesia kopi sampah kerja pengembangan jombang \n",
      "\n"
     ]
    }
   ],
   "source": [
    "# most important words for each topic\n",
    "vocab = vect.get_feature_names_out()\n",
    "\n",
    "for i, comp in enumerate(lsa_model.components_):\n",
    "    vocab_comp = zip(vocab, comp)\n",
    "    sorted_words = sorted(vocab_comp, key= lambda x:x[1], reverse=True)[:10]\n",
    "    print(\"Topic \"+str(i)+\": \")\n",
    "    for t in sorted_words:\n",
    "        print(t[0],end=\" \")\n",
    "    print(\"\\n\")"
   ]
  },
  {
   "cell_type": "markdown",
   "metadata": {},
   "source": [
    "hasil diatas merupakan 10 topic terbaik yang ada di data tersebut"
   ]
  }
 ],
 "metadata": {
  "kernelspec": {
   "display_name": "Python 3.9.12 64-bit",
   "language": "python",
   "name": "python3"
  },
  "language_info": {
   "codemirror_mode": {
    "name": "ipython",
    "version": 3
   },
   "file_extension": ".py",
   "mimetype": "text/x-python",
   "name": "python",
   "nbconvert_exporter": "python",
   "pygments_lexer": "ipython3",
   "version": "3.9.12"
  },
  "orig_nbformat": 4,
  "vscode": {
   "interpreter": {
    "hash": "e7370f93d1d0cde622a1f8e1c04877d8463912d04d973331ad4851f04de6915a"
   }
  }
 },
 "nbformat": 4,
 "nbformat_minor": 2
}
